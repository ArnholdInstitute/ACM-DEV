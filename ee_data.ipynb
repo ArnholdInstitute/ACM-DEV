{
 "cells": [
  {
   "cell_type": "markdown",
   "metadata": {},
   "source": [
    "### Getting data from the Google Earth Engine"
   ]
  },
  {
   "cell_type": "code",
   "execution_count": 1,
   "metadata": {
    "collapsed": false
   },
   "outputs": [],
   "source": [
    "# importing packages and initializing Google Earth Engine\n",
    "%matplotlib inline\n",
    "import matplotlib.pyplot as plt\n",
    "import ee\n",
    "import urllib\n",
    "import zipfile\n",
    "import os\n",
    "\n",
    "ee.Initialize()"
   ]
  },
  {
   "cell_type": "code",
   "execution_count": 22,
   "metadata": {
    "collapsed": false
   },
   "outputs": [],
   "source": [
    "state_name = 'Oregon'\n",
    "year = '2010'\n",
    "folder_loc = '/Users/patrickdoupe/Dropbox/insightDataScience/project/'\n",
    "\n",
    "if not os.path.exists(folder_loc+'LANDSAT_TOA/'+state_name+'/small'):\n",
    "    os.makedirs(folder_loc+'LANDSAT_TOA/'+state_name+'/small')"
   ]
  },
  {
   "cell_type": "code",
   "execution_count": 23,
   "metadata": {
    "collapsed": false
   },
   "outputs": [],
   "source": [
    "## Getting Satellite data for Oregon\n",
    "# Load LANDSAT TOA image for 2010\n",
    "image = ee.Image('LANDSAT/LE7_TOA_1YEAR/'+year) \n",
    "\n",
    "# Get State boundaries\n",
    "featureCollection = ee.FeatureCollection('ft:1fRY18cjsHzDgGiJiS2nnpUU3v9JPDc2HNaR7Xk8');\n",
    "# Get a map of the state\n",
    "state_filter = featureCollection.filter(ee.Filter.eq('Name', state_name));\n",
    "border = ee.Feature(state_filter.first())\n",
    "\n",
    "# Make a bitmask that we can use to set the values outside the\n",
    "# region to zero (for download), and then also call clip() to \n",
    "# set the mask (for things like addToMap() that use the mask)\n",
    "outside = ee.Image(1).uint8().paint(border, 0);\n",
    "image = image.where(outside, 0).clip(border);\n",
    "\n"
   ]
  },
  {
   "cell_type": "code",
   "execution_count": 24,
   "metadata": {
    "collapsed": false
   },
   "outputs": [
    {
     "name": "stdout",
     "output_type": "stream",
     "text": [
      "('2010.zip', <httplib.HTTPMessage instance at 0x104a49b00>)\n"
     ]
    }
   ],
   "source": [
    "# Exporting path\n",
    "path = image.getDownloadURL({\n",
    "    'scale': 1000,\n",
    "    'crs': 'EPSG:4326'\n",
    "    });\n",
    "\n",
    "spatial_data_file = '2010.zip'\n",
    "a = urllib.urlretrieve(path, spatial_data_file)\n",
    "print a\n",
    "zfile = zipfile.ZipFile(spatial_data_file)\n",
    "zfile.extractall('LANDSAT_TOA/'+state_name+'/small')"
   ]
  },
  {
   "cell_type": "code",
   "execution_count": 25,
   "metadata": {
    "collapsed": false
   },
   "outputs": [
    {
     "name": "stdout",
     "output_type": "stream",
     "text": [
      "a7666bf9c228de6b5601a28d17ca593e.B1.tfw\n",
      "a7666bf9c228de6b5601a28d17ca593e.B1.tif\n",
      "a7666bf9c228de6b5601a28d17ca593e.B2.tfw\n",
      "a7666bf9c228de6b5601a28d17ca593e.B2.tif\n",
      "a7666bf9c228de6b5601a28d17ca593e.B3.tfw\n",
      "a7666bf9c228de6b5601a28d17ca593e.B3.tif\n",
      "a7666bf9c228de6b5601a28d17ca593e.B4.tfw\n",
      "a7666bf9c228de6b5601a28d17ca593e.B4.tif\n",
      "a7666bf9c228de6b5601a28d17ca593e.B5.tfw\n",
      "a7666bf9c228de6b5601a28d17ca593e.B5.tif\n",
      "a7666bf9c228de6b5601a28d17ca593e.B6_VCID_2.tfw\n",
      "a7666bf9c228de6b5601a28d17ca593e.B6_VCID_2.tif\n",
      "a7666bf9c228de6b5601a28d17ca593e.B7.tfw\n",
      "a7666bf9c228de6b5601a28d17ca593e.B7.tif\n",
      "Oregon_2010_B1.tfw\n",
      "Oregon_2010_B1.tif\n",
      "Oregon_2010_B2.tfw\n",
      "Oregon_2010_B2.tif\n",
      "Oregon_2010_B3.tfw\n",
      "Oregon_2010_B3.tif\n",
      "Oregon_2010_B4.tfw\n",
      "Oregon_2010_B4.tif\n",
      "Oregon_2010_B5.tfw\n",
      "Oregon_2010_B5.tif\n",
      "Oregon_2010_B6_VCID_2.tfw\n",
      "Oregon_2010_B6_VCID_2.tif\n",
      "Oregon_2010_B7.tfw\n",
      "Oregon_2010_B7.tif\n"
     ]
    }
   ],
   "source": [
    "# Cleaning up the names of the files\n",
    "channels = ['B1', 'B2', 'B3', 'B4', 'B5', 'B6_VCID_2', 'B7']\n",
    "\n",
    "for filename in os.listdir('LANDSAT_TOA/'+state_name+'/small'):\n",
    "    for channel in channels:\n",
    "        try:\n",
    "            prefix, band, extension = filename.partition(channel)\n",
    "            if band==channel:\n",
    "                os.rename(\n",
    "                    'LANDSAT_TOA/'+state_name+'/small/'+filename,\n",
    "                    'LANDSAT_TOA/'+state_name+'/small/'+state_name+'_'+year+'_'+band+extension)\n",
    "        except:\n",
    "            pass"
   ]
  },
  {
   "cell_type": "code",
   "execution_count": 26,
   "metadata": {
    "collapsed": false
   },
   "outputs": [
    {
     "name": "stdout",
     "output_type": "stream",
     "text": [
      "Oregon_2010_B1.tfw\n",
      "Oregon_2010_B1.tif\n",
      "Oregon_2010_B2.tfw\n",
      "Oregon_2010_B2.tif\n",
      "Oregon_2010_B3.tfw\n",
      "Oregon_2010_B3.tif\n",
      "Oregon_2010_B4.tfw\n",
      "Oregon_2010_B4.tif\n",
      "Oregon_2010_B5.tfw\n",
      "Oregon_2010_B5.tif\n",
      "Oregon_2010_B6_VCID_2.tfw\n",
      "Oregon_2010_B6_VCID_2.tif\n",
      "Oregon_2010_B7.tfw\n",
      "Oregon_2010_B7.tif\n"
     ]
    }
   ],
   "source": [
    "for filename in os.listdir(folder_loc+'LANDSAT_TOA/'+state_name+'/small'):\n",
    "    print filename"
   ]
  },
  {
   "cell_type": "code",
   "execution_count": null,
   "metadata": {
    "collapsed": true
   },
   "outputs": [],
   "source": []
  }
 ],
 "metadata": {
  "kernelspec": {
   "display_name": "Python 2",
   "language": "python",
   "name": "python2"
  },
  "language_info": {
   "codemirror_mode": {
    "name": "ipython",
    "version": 2
   },
   "file_extension": ".py",
   "mimetype": "text/x-python",
   "name": "python",
   "nbconvert_exporter": "python",
   "pygments_lexer": "ipython2",
   "version": "2.7.11"
  }
 },
 "nbformat": 4,
 "nbformat_minor": 0
}
