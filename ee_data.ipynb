{
 "cells": [
  {
   "cell_type": "markdown",
   "metadata": {},
   "source": [
    "### Getting data from the Google Earth Engine"
   ]
  },
  {
   "cell_type": "code",
   "execution_count": 1,
   "metadata": {
    "collapsed": false
   },
   "outputs": [],
   "source": [
    "# importing packages and initializing Google Earth Engine\n",
    "%matplotlib inline\n",
    "import matplotlib.pyplot as plt\n",
    "import ee\n",
    "import urllib\n",
    "import zipfile\n",
    "import os\n",
    "\n",
    "ee.Initialize()"
   ]
  },
  {
   "cell_type": "code",
   "execution_count": 2,
   "metadata": {
    "collapsed": true
   },
   "outputs": [],
   "source": [
    "state_name = 'Oregon'\n",
    "year = '2010'\n",
    "folder_loc = '/Users/patrickdoupe/Dropbox/insightDataScience/project/'\n",
    "\n",
    "if not os.path.exists(folder_loc+'LANDSAT_TOA/'+state_name):\n",
    "    os.makedirs(folder_loc+'LANDSAT_TOA/'+state_name)"
   ]
  },
  {
   "cell_type": "code",
   "execution_count": 3,
   "metadata": {
    "collapsed": false
   },
   "outputs": [],
   "source": [
    "## Getting Satellite data for Oregon\n",
    "# Load LANDSAT TOA image for 2010\n",
    "image = ee.Image('LANDSAT/LE7_TOA_1YEAR/'+year) \n",
    "\n",
    "# Get State boundaries\n",
    "featureCollection = ee.FeatureCollection('ft:1fRY18cjsHzDgGiJiS2nnpUU3v9JPDc2HNaR7Xk8');\n",
    "# Get a map of the state\n",
    "state_filter = featureCollection.filter(ee.Filter.eq('Name', state_name));\n",
    "border = ee.Feature(state_filter.first())\n",
    "\n",
    "# Make a bitmask that we can use to set the values outside the\n",
    "# region to zero (for download), and then also call clip() to \n",
    "# set the mask (for things like addToMap() that use the mask)\n",
    "outside = ee.Image(1).uint8().paint(border, 0);\n",
    "image = image.where(outside, 0).clip(border);"
   ]
  },
  {
   "cell_type": "code",
   "execution_count": 12,
   "metadata": {
    "collapsed": false
   },
   "outputs": [
    {
     "name": "stdout",
     "output_type": "stream",
     "text": [
      "('2010.zip', <httplib.HTTPMessage instance at 0x10508f128>)\n"
     ]
    }
   ],
   "source": [
    "# Exporting path\n",
    "path = image.getDownloadURL({\n",
    "    'scale': 100,\n",
    "    'crs': 'EPSG:4326'\n",
    "    });\n",
    "\n",
    "spatial_data_file = '2010.zip'\n",
    "a = urllib.urlretrieve(path, spatial_data_file)\n",
    "print a\n",
    "zfile = zipfile.ZipFile(spatial_data_file)\n",
    "zfile.extractall('LANDSAT_TOA/'+state_name)"
   ]
  },
  {
   "cell_type": "code",
   "execution_count": null,
   "metadata": {
    "collapsed": true
   },
   "outputs": [],
   "source": []
  },
  {
   "cell_type": "code",
   "execution_count": null,
   "metadata": {
    "collapsed": false
   },
   "outputs": [],
   "source": [
    "# Cleaning up the names of the files\n",
    "channels = ['B1', 'B2', 'B3', 'B4', 'B5', 'B6_VCID_2', 'B7']\n",
    "\n",
    "for filename in os.listdir('LANDSAT_TOA/'+state_name):\n",
    "    print filename\n",
    "    for channel in channels:\n",
    "        try:\n",
    "            prefix, band, extension = filename.partition(channel)\n",
    "            os.rename(\n",
    "                'LANDSAT_TOA/'+state_name+'/'+filename,\n",
    "                'LANDSAT_TOA/'+state_name+'/'+state_name+'_'+year+'_'+band+extension)\n",
    "            count += 1\n",
    "        except:\n",
    "            pass"
   ]
  },
  {
   "cell_type": "code",
   "execution_count": null,
   "metadata": {
    "collapsed": false
   },
   "outputs": [],
   "source": [
    "for filename in os.listdir(folder_loc+'LANDSAT_TOA/'+state_name):\n",
    "    print filename"
   ]
  },
  {
   "cell_type": "code",
   "execution_count": null,
   "metadata": {
    "collapsed": true
   },
   "outputs": [],
   "source": []
  }
 ],
 "metadata": {
  "kernelspec": {
   "display_name": "Python 2",
   "language": "python",
   "name": "python2"
  },
  "language_info": {
   "codemirror_mode": {
    "name": "ipython",
    "version": 2
   },
   "file_extension": ".py",
   "mimetype": "text/x-python",
   "name": "python",
   "nbconvert_exporter": "python",
   "pygments_lexer": "ipython2",
   "version": "2.7.11"
  }
 },
 "nbformat": 4,
 "nbformat_minor": 0
}
