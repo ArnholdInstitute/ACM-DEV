{
 "cells": [
  {
   "cell_type": "markdown",
   "metadata": {},
   "source": [
    "### Getting data from the Google Earth Engine"
   ]
  },
  {
   "cell_type": "code",
   "execution_count": 23,
   "metadata": {
    "collapsed": false
   },
   "outputs": [],
   "source": [
    "# importing packages and initializing Google Earth Engine\n",
    "%matplotlib inline\n",
    "import matplotlib.pyplot as plt\n",
    "import ee\n",
    "import urllib\n",
    "import zipfile\n",
    "import os\n",
    "import numpy as np\n",
    "\n",
    "ee.Initialize()"
   ]
  },
  {
   "cell_type": "code",
   "execution_count": 8,
   "metadata": {
    "collapsed": false
   },
   "outputs": [],
   "source": [
    "folder_loc = '/Users/patrickdoupe/Dropbox/insightDataScience/project/'\n",
    "year = '2010'\n",
    "if not os.path.exists(folder_loc+'LANDSAT_TOA/small'):\n",
    "    os.makedirs(folder_loc+'LANDSAT_TOA/small')"
   ]
  },
  {
   "cell_type": "code",
   "execution_count": 9,
   "metadata": {
    "collapsed": false
   },
   "outputs": [],
   "source": [
    "## Getting Satellite data for Oregon\n",
    "# Load LANDSAT TOA image for 2010\n",
    "image = ee.Image('LANDSAT/LE7_TOA_1YEAR/'+year) \n",
    "\n"
   ]
  },
  {
   "cell_type": "code",
   "execution_count": 40,
   "metadata": {
    "collapsed": false
   },
   "outputs": [
    {
     "name": "stdout",
     "output_type": "stream",
     "text": [
      "43.0 -124.0\n",
      "43.5 -123.5\n"
     ]
    },
    {
     "ename": "EEException",
     "evalue": "The requested image band is too large: was 8495270 bytes per scanline; must be no more than 262144 bytes per scanline.",
     "output_type": "error",
     "traceback": [
      "\u001b[0;31m---------------------------------------------------------------------------\u001b[0m",
      "\u001b[0;31mEEException\u001b[0m                               Traceback (most recent call last)",
      "\u001b[0;32m<ipython-input-40-ba954273f584>\u001b[0m in \u001b[0;36m<module>\u001b[0;34m()\u001b[0m\n\u001b[1;32m     14\u001b[0m           {'scale': 30, \n\u001b[1;32m     15\u001b[0m           \u001b[0;34m'crs'\u001b[0m\u001b[0;34m:\u001b[0m \u001b[0;34m'EPSG:2913'\u001b[0m\u001b[0;34m,\u001b[0m\u001b[0;34m\u001b[0m\u001b[0m\n\u001b[0;32m---> 16\u001b[0;31m           \u001b[0;34m'maxPixels'\u001b[0m \u001b[0;34m:\u001b[0m \u001b[0;36m1e13\u001b[0m\u001b[0;34m\u001b[0m\u001b[0m\n\u001b[0m\u001b[1;32m     17\u001b[0m           }\n\u001b[1;32m     18\u001b[0m         );\n",
      "\u001b[0;32m//anaconda/envs/pygeo/lib/python2.7/site-packages/ee/image.pyc\u001b[0m in \u001b[0;36mgetDownloadURL\u001b[0;34m(self, params)\u001b[0m\n\u001b[1;32m    162\u001b[0m     \u001b[0mrequest\u001b[0m \u001b[0;34m=\u001b[0m \u001b[0mparams\u001b[0m \u001b[0;32mor\u001b[0m \u001b[0;34m{\u001b[0m\u001b[0;34m}\u001b[0m\u001b[0;34m\u001b[0m\u001b[0m\n\u001b[1;32m    163\u001b[0m     \u001b[0mrequest\u001b[0m\u001b[0;34m[\u001b[0m\u001b[0;34m'image'\u001b[0m\u001b[0;34m]\u001b[0m \u001b[0;34m=\u001b[0m \u001b[0mself\u001b[0m\u001b[0;34m.\u001b[0m\u001b[0mserialize\u001b[0m\u001b[0;34m(\u001b[0m\u001b[0;34m)\u001b[0m\u001b[0;34m\u001b[0m\u001b[0m\n\u001b[0;32m--> 164\u001b[0;31m     \u001b[0;32mreturn\u001b[0m \u001b[0mdata\u001b[0m\u001b[0;34m.\u001b[0m\u001b[0mmakeDownloadUrl\u001b[0m\u001b[0;34m(\u001b[0m\u001b[0mdata\u001b[0m\u001b[0;34m.\u001b[0m\u001b[0mgetDownloadId\u001b[0m\u001b[0;34m(\u001b[0m\u001b[0mrequest\u001b[0m\u001b[0;34m)\u001b[0m\u001b[0;34m)\u001b[0m\u001b[0;34m\u001b[0m\u001b[0m\n\u001b[0m\u001b[1;32m    165\u001b[0m \u001b[0;34m\u001b[0m\u001b[0m\n\u001b[1;32m    166\u001b[0m   \u001b[0;32mdef\u001b[0m \u001b[0mgetThumbURL\u001b[0m\u001b[0;34m(\u001b[0m\u001b[0mself\u001b[0m\u001b[0;34m,\u001b[0m \u001b[0mparams\u001b[0m\u001b[0;34m=\u001b[0m\u001b[0mNone\u001b[0m\u001b[0;34m)\u001b[0m\u001b[0;34m:\u001b[0m\u001b[0;34m\u001b[0m\u001b[0m\n",
      "\u001b[0;32m//anaconda/envs/pygeo/lib/python2.7/site-packages/ee/data.pyc\u001b[0m in \u001b[0;36mgetDownloadId\u001b[0;34m(params)\u001b[0m\n\u001b[1;32m    316\u001b[0m   \u001b[0;32mif\u001b[0m \u001b[0;34m'bands'\u001b[0m \u001b[0;32min\u001b[0m \u001b[0mparams\u001b[0m \u001b[0;32mand\u001b[0m \u001b[0;32mnot\u001b[0m \u001b[0misinstance\u001b[0m\u001b[0;34m(\u001b[0m\u001b[0mparams\u001b[0m\u001b[0;34m[\u001b[0m\u001b[0;34m'bands'\u001b[0m\u001b[0;34m]\u001b[0m\u001b[0;34m,\u001b[0m \u001b[0mbasestring\u001b[0m\u001b[0;34m)\u001b[0m\u001b[0;34m:\u001b[0m\u001b[0;34m\u001b[0m\u001b[0m\n\u001b[1;32m    317\u001b[0m     \u001b[0mparams\u001b[0m\u001b[0;34m[\u001b[0m\u001b[0;34m'bands'\u001b[0m\u001b[0;34m]\u001b[0m \u001b[0;34m=\u001b[0m \u001b[0mjson\u001b[0m\u001b[0;34m.\u001b[0m\u001b[0mdumps\u001b[0m\u001b[0;34m(\u001b[0m\u001b[0mparams\u001b[0m\u001b[0;34m[\u001b[0m\u001b[0;34m'bands'\u001b[0m\u001b[0;34m]\u001b[0m\u001b[0;34m)\u001b[0m\u001b[0;34m\u001b[0m\u001b[0m\n\u001b[0;32m--> 318\u001b[0;31m   \u001b[0;32mreturn\u001b[0m \u001b[0msend_\u001b[0m\u001b[0;34m(\u001b[0m\u001b[0;34m'/download'\u001b[0m\u001b[0;34m,\u001b[0m \u001b[0mparams\u001b[0m\u001b[0;34m)\u001b[0m\u001b[0;34m\u001b[0m\u001b[0m\n\u001b[0m\u001b[1;32m    319\u001b[0m \u001b[0;34m\u001b[0m\u001b[0m\n\u001b[1;32m    320\u001b[0m \u001b[0;34m\u001b[0m\u001b[0m\n",
      "\u001b[0;32m//anaconda/envs/pygeo/lib/python2.7/site-packages/ee/data.pyc\u001b[0m in \u001b[0;36msend_\u001b[0;34m(path, params, opt_method, opt_raw)\u001b[0m\n\u001b[1;32m    668\u001b[0m       \u001b[0;32mraise\u001b[0m \u001b[0mee_exception\u001b[0m\u001b[0;34m.\u001b[0m\u001b[0mEEException\u001b[0m\u001b[0;34m(\u001b[0m\u001b[0;34m'Invalid JSON: '\u001b[0m \u001b[0;34m+\u001b[0m \u001b[0mcontent\u001b[0m\u001b[0;34m)\u001b[0m\u001b[0;34m\u001b[0m\u001b[0m\n\u001b[1;32m    669\u001b[0m     \u001b[0;32mif\u001b[0m \u001b[0;34m'error'\u001b[0m \u001b[0;32min\u001b[0m \u001b[0mjson_content\u001b[0m\u001b[0;34m:\u001b[0m\u001b[0;34m\u001b[0m\u001b[0m\n\u001b[0;32m--> 670\u001b[0;31m       \u001b[0;32mraise\u001b[0m \u001b[0mee_exception\u001b[0m\u001b[0;34m.\u001b[0m\u001b[0mEEException\u001b[0m\u001b[0;34m(\u001b[0m\u001b[0mjson_content\u001b[0m\u001b[0;34m[\u001b[0m\u001b[0;34m'error'\u001b[0m\u001b[0;34m]\u001b[0m\u001b[0;34m[\u001b[0m\u001b[0;34m'message'\u001b[0m\u001b[0;34m]\u001b[0m\u001b[0;34m)\u001b[0m\u001b[0;34m\u001b[0m\u001b[0m\n\u001b[0m\u001b[1;32m    671\u001b[0m     \u001b[0;32mif\u001b[0m \u001b[0;34m'data'\u001b[0m \u001b[0;32mnot\u001b[0m \u001b[0;32min\u001b[0m \u001b[0mcontent\u001b[0m\u001b[0;34m:\u001b[0m\u001b[0;34m\u001b[0m\u001b[0m\n\u001b[1;32m    672\u001b[0m       \u001b[0;32mraise\u001b[0m \u001b[0mee_exception\u001b[0m\u001b[0;34m.\u001b[0m\u001b[0mEEException\u001b[0m\u001b[0;34m(\u001b[0m\u001b[0;34m'Malformed response: '\u001b[0m \u001b[0;34m+\u001b[0m \u001b[0mcontent\u001b[0m\u001b[0;34m)\u001b[0m\u001b[0;34m\u001b[0m\u001b[0m\n",
      "\u001b[0;31mEEException\u001b[0m: The requested image band is too large: was 8495270 bytes per scanline; must be no more than 262144 bytes per scanline."
     ]
    }
   ],
   "source": [
    "lon = np.arange(-124, -120, 0.5)\n",
    "lat = np.arange(43, 44, 0.5)\n",
    "## Now export the scenes from the ImageCollection to \n",
    "## Google Drive\n",
    "for i in range(len(lon)):\n",
    "    for j in range(len(lat)):\n",
    "        print lat[j], lon[i]\n",
    "        print lat[j+1], lon[i+1]\n",
    "        rectangle = ee.Geometry.Rectangle(lat[j], lon[i], lat[j+1], lon[i+1])\n",
    "        feature = ee.Feature(rectangle)\n",
    "        image = image.clip(feature)\n",
    "        im_download = image.select(['B1'])\n",
    "        path = image.getDownloadURL(\n",
    "          {'scale': 30, \n",
    "          'crs': 'EPSG:2913',\n",
    "          'maxPixels' : 1e13\n",
    "          }\n",
    "        );\n",
    "        spatial_data_file = 'B1_240m_epsg_2913_' + str(lat[j]) + '_' + str(lon[i])\n",
    "        a = urllib.urlretrieve(path, spatial_data_file)\n",
    "        zfile = zipfile.ZipFile(spatial_data_file)\n",
    "        zfile.extractall('LANDSAT_TOA/small')"
   ]
  },
  {
   "cell_type": "code",
   "execution_count": null,
   "metadata": {
    "collapsed": true
   },
   "outputs": [],
   "source": []
  },
  {
   "cell_type": "code",
   "execution_count": null,
   "metadata": {
    "collapsed": true
   },
   "outputs": [],
   "source": []
  },
  {
   "cell_type": "code",
   "execution_count": 95,
   "metadata": {
    "collapsed": false
   },
   "outputs": [],
   "source": [
    "state_name = 'Oregon'\n",
    "year = '2010'\n",
    "\n",
    "\n",
    "if not os.path.exists(folder_loc+'LANDSAT_TOA/'+state_name+'/small'):\n",
    "    os.makedirs(folder_loc+'LANDSAT_TOA/'+state_name+'/small')"
   ]
  },
  {
   "cell_type": "code",
   "execution_count": 96,
   "metadata": {
    "collapsed": false
   },
   "outputs": [],
   "source": [
    "## Getting Satellite data for Oregon\n",
    "# Load LANDSAT TOA image for 2010\n",
    "image = ee.Image('LANDSAT/LE7_TOA_1YEAR/'+year) \n",
    "\n",
    "# Get State boundaries\n",
    "featureCollection = ee.FeatureCollection('ft:1fRY18cjsHzDgGiJiS2nnpUU3v9JPDc2HNaR7Xk8');\n",
    "# Get a map of the state\n",
    "state_filter = featureCollection.filter(ee.Filter.eq('Name', state_name));\n",
    "border = ee.Feature(state_filter.first())\n",
    "\n",
    "# Make a bitmask that we can use to set the values outside the\n",
    "# region to zero (for download), and then also call clip() to \n",
    "# set the mask (for things like addToMap() that use the mask)\n",
    "outside = ee.Image(1).uint8().paint(border, 0);\n",
    "image = image.where(outside, 0).clip(border);\n",
    "\n"
   ]
  },
  {
   "cell_type": "code",
   "execution_count": 97,
   "metadata": {
    "collapsed": false
   },
   "outputs": [
    {
     "name": "stdout",
     "output_type": "stream",
     "text": [
      "('2010.zip', <httplib.HTTPMessage instance at 0x1051fc050>)\n"
     ]
    }
   ],
   "source": [
    "# Exporting path\n",
    "path = image.getDownloadURL({\n",
    "    'scale': 180,\n",
    "    'crs': 'EPSG:4326'\n",
    "    });\n",
    "\n",
    "spatial_data_file = '2010.zip'\n",
    "a = urllib.urlretrieve(path, spatial_data_file)\n",
    "print a\n",
    "zfile = zipfile.ZipFile(spatial_data_file)\n",
    "zfile.extractall('LANDSAT_TOA/'+state_name)"
   ]
  },
  {
   "cell_type": "code",
   "execution_count": 98,
   "metadata": {
    "collapsed": false
   },
   "outputs": [],
   "source": [
    "# Cleaning up the names of the files\n",
    "channels = ['B1', 'B2', 'B3', 'B4', 'B5', 'B6_VCID_2', 'B7']\n",
    "\n",
    "for filename in os.listdir('LANDSAT_TOA/'+state_name):\n",
    "    for channel in channels:\n",
    "        try:\n",
    "            prefix, band, extension = filename.partition(channel)\n",
    "            if band==channel:\n",
    "                os.rename(\n",
    "                    'LANDSAT_TOA/'+state_name+'/'+filename,\n",
    "                    'LANDSAT_TOA/'+state_name+'/'+state_name+'_'+year+'_'+band+extension)\n",
    "        except:\n",
    "            pass"
   ]
  },
  {
   "cell_type": "code",
   "execution_count": 99,
   "metadata": {
    "collapsed": false
   },
   "outputs": [
    {
     "name": "stdout",
     "output_type": "stream",
     "text": [
      "Oregon_2010_B1.tfw\n",
      "Oregon_2010_B1.tif\n",
      "Oregon_2010_B2.tfw\n",
      "Oregon_2010_B2.tif\n",
      "Oregon_2010_B3.tfw\n",
      "Oregon_2010_B3.tif\n",
      "Oregon_2010_B4.tfw\n",
      "Oregon_2010_B4.tif\n",
      "Oregon_2010_B5.tfw\n",
      "Oregon_2010_B5.tif\n",
      "Oregon_2010_B6_VCID_2.tfw\n",
      "Oregon_2010_B6_VCID_2.tif\n",
      "Oregon_2010_B7.tfw\n",
      "Oregon_2010_B7.tif\n",
      "small\n"
     ]
    }
   ],
   "source": [
    "for filename in os.listdir(folder_loc+'LANDSAT_TOA/'+state_name):\n",
    "    print filename"
   ]
  },
  {
   "cell_type": "code",
   "execution_count": null,
   "metadata": {
    "collapsed": true
   },
   "outputs": [],
   "source": []
  }
 ],
 "metadata": {
  "kernelspec": {
   "display_name": "Python 2",
   "language": "python",
   "name": "python2"
  },
  "language_info": {
   "codemirror_mode": {
    "name": "ipython",
    "version": 2
   },
   "file_extension": ".py",
   "mimetype": "text/x-python",
   "name": "python",
   "nbconvert_exporter": "python",
   "pygments_lexer": "ipython2",
   "version": "2.7.11"
  }
 },
 "nbformat": 4,
 "nbformat_minor": 0
}
