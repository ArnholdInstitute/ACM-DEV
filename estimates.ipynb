{
 "cells": [
  {
   "cell_type": "markdown",
   "metadata": {},
   "source": [
    "Testing of Landsat-landstats for Kenya"
   ]
  },
  {
   "cell_type": "code",
   "execution_count": 1,
   "metadata": {
    "collapsed": false
   },
   "outputs": [
    {
     "name": "stderr",
     "output_type": "stream",
     "text": [
      "/Users/patrick/miniconda3/lib/python3.5/site-packages/IPython/html.py:14: ShimWarning: The `IPython.html` package has been deprecated. You should import from `notebook` instead. `IPython.html.widgets` has moved to `ipywidgets`.\n",
      "  \"`IPython.html.widgets` has moved to `ipywidgets`.\", ShimWarning)\n"
     ]
    },
    {
     "ename": "ImportError",
     "evalue": "No module named 'geopandas'",
     "output_type": "error",
     "traceback": [
      "\u001b[0;31m---------------------------------------------------------------------------\u001b[0m",
      "\u001b[0;31mImportError\u001b[0m                               Traceback (most recent call last)",
      "\u001b[0;32m<ipython-input-1-3b341cdd57bc>\u001b[0m in \u001b[0;36m<module>\u001b[0;34m()\u001b[0m\n\u001b[1;32m      4\u001b[0m \u001b[0;32mimport\u001b[0m \u001b[0mseaborn\u001b[0m \u001b[0;32mas\u001b[0m \u001b[0msns\u001b[0m\u001b[0;34m\u001b[0m\u001b[0m\n\u001b[1;32m      5\u001b[0m \u001b[0;32mimport\u001b[0m \u001b[0mpandas\u001b[0m \u001b[0;32mas\u001b[0m \u001b[0mpd\u001b[0m\u001b[0;34m\u001b[0m\u001b[0m\n\u001b[0;32m----> 6\u001b[0;31m \u001b[0;32mimport\u001b[0m \u001b[0mgeopandas\u001b[0m \u001b[0;32mas\u001b[0m \u001b[0mgpd\u001b[0m\u001b[0;34m\u001b[0m\u001b[0m\n\u001b[0m\u001b[1;32m      7\u001b[0m \u001b[0;32mimport\u001b[0m \u001b[0mnumpy\u001b[0m \u001b[0;32mas\u001b[0m \u001b[0mnp\u001b[0m\u001b[0;34m\u001b[0m\u001b[0m\n",
      "\u001b[0;31mImportError\u001b[0m: No module named 'geopandas'"
     ]
    }
   ],
   "source": [
    "%matplotlib inline\n",
    "from IPython.display import Image\n",
    "import matplotlib.pyplot as plt\n",
    "import seaborn as sns\n",
    "import pandas as pd\n",
    "import geopandas as gpd\n",
    "import numpy as np"
   ]
  },
  {
   "cell_type": "code",
   "execution_count": null,
   "metadata": {
    "collapsed": false,
    "scrolled": true
   },
   "outputs": [],
   "source": [
    "# loading data\n",
    "df = pd.DataFrame.from_csv('../data/estimates/estimates_after_join.csv')\n",
    "df = df.dropna(axis=0)\n",
    "df.tail()"
   ]
  },
  {
   "cell_type": "code",
   "execution_count": null,
   "metadata": {
    "collapsed": true
   },
   "outputs": [],
   "source": [
    "# we only need a subset of this data\n",
    "df_subloc = df[['estimates', 'area', 'location_id', \n",
    "                'sublocation_id', 'pop']]\n",
    "# renaming\n",
    "df_subloc = df_subloc.rename(\n",
    "    columns = {'pop': 'pop_sublocation_actual',\n",
    "              'estimates' : 'density_subloc_est'})"
   ]
  },
  {
   "cell_type": "markdown",
   "metadata": {},
   "source": [
    "The rows are single 32 x 32 satellite images. \n",
    "\n",
    "The convnet predicts the density for each image. This prediction is column 'estimates'."
   ]
  },
  {
   "cell_type": "code",
   "execution_count": null,
   "metadata": {
    "collapsed": false
   },
   "outputs": [],
   "source": [
    "df_subloc = df_subloc.groupby(['sublocation_id']).mean()\n",
    "df_subloc.reset_index(level=0, inplace=True)\n",
    "df_subloc['pop_sublocation_est'] = df_subloc.density_subloc_est * df_subloc.area"
   ]
  },
  {
   "cell_type": "code",
   "execution_count": null,
   "metadata": {
    "collapsed": false
   },
   "outputs": [],
   "source": [
    "df_subloc.tail()"
   ]
  },
  {
   "cell_type": "markdown",
   "metadata": {},
   "source": [
    "Looking at the bottom of the table, it seems like the population estimates are off by an order of 1000. However, it's pretty accurate! Let's look at the top"
   ]
  },
  {
   "cell_type": "code",
   "execution_count": null,
   "metadata": {
    "collapsed": false
   },
   "outputs": [],
   "source": [
    "df_subloc.head()"
   ]
  },
  {
   "cell_type": "markdown",
   "metadata": {},
   "source": [
    "Our estimates are off by an order of 1000, but it's much less accurate.\n",
    "\n",
    "The rest of the literature simply takes census data at some level (say Location) and uses weights to distribute across lower levers (e.g. Sublocation). So at the Location level, the population matches the Census. The test is whether the population matches the census at the Sublocation level.\n",
    "\n",
    "\n",
    "A more ambitious project is simply estimating population at the Sublocation level. Let's get some metrics to do this."
   ]
  },
  {
   "cell_type": "code",
   "execution_count": null,
   "metadata": {
    "collapsed": false
   },
   "outputs": [],
   "source": [
    "# Root mean square error\n",
    "df_subloc['error_subloc'] = df_subloc.pop_sublocation_est - df_subloc.pop_sublocation_actual\n",
    "df_subloc['sq_error_subloc'] = df_subloc.error_subloc**2\n",
    "rmse = np.sqrt(df_subloc.sq_error_subloc.mean())\n",
    "print 'The root mean squared error is: ', rmse\n",
    "\n",
    "# %RMSE: RMSE / mean(population_subloc)\n",
    "pc_rmse = 100 * rmse / df_subloc.pop_sublocation_actual.mean()\n",
    "print 'The root mean squared percentage error is: ', pc_rmse\n",
    "\n",
    "# Mean absolute error\n",
    "df_subloc['abs_error_subloc'] = abs(df_subloc.pop_sublocation_est - df_subloc.pop_sublocation_actual)\n",
    "mae = df_subloc.abs_error_subloc.mean()\n",
    "print 'The mean absolute error is: ', mae"
   ]
  },
  {
   "cell_type": "markdown",
   "metadata": {},
   "source": [
    "Wow! The RMSE and %RMSE are of the same order of magnitude as the literature _with populations matched at the location level as discussed above._ Further, the MAE is an order of magnitude greater. This table is taken from Stevens et al 2015. It's the state of the art. Their work is under rows 'RF'."
   ]
  },
  {
   "cell_type": "code",
   "execution_count": null,
   "metadata": {
    "collapsed": false
   },
   "outputs": [],
   "source": [
    "Image(filename='stevens_table_2.png')"
   ]
  },
  {
   "cell_type": "code",
   "execution_count": null,
   "metadata": {
    "collapsed": false
   },
   "outputs": [],
   "source": [
    "# how about a scatter plot\n",
    "plt.scatter(df_subloc.pop_sublocation_est, df_subloc.pop_sublocation_actual)"
   ]
  },
  {
   "cell_type": "markdown",
   "metadata": {},
   "source": [
    "So it looks less good here. That's strangely comforting.\n",
    "\n",
    "Now, let's use the method the literature does."
   ]
  },
  {
   "cell_type": "code",
   "execution_count": null,
   "metadata": {
    "collapsed": false
   },
   "outputs": [],
   "source": [
    "# getting location level populations from sublocation data\n",
    "df_loc = df_subloc[['pop_sublocation_actual', 'pop_sublocation_est', \n",
    "                    'location_id']].groupby('location_id').sum()\n",
    "df_loc.reset_index(level=0, inplace=True)\n",
    "df_loc = df_loc.rename(columns = {'pop_sublocation_actual': 'pop_location_actual',\n",
    "                                 'pop_sublocation_est' : 'pop_location_est'})\n",
    "\n",
    "# merge with sublocation data\n",
    "df_final = pd.merge(df_subloc, df_loc, on = 'location_id', how = 'left')\n",
    "\n",
    "# generating weights within a sublocation\n",
    "df_final['weights']= df_final.pop_sublocation_est / df_final.pop_location_est\n",
    "\n",
    "# distributing population at the location level by these weights\n",
    "df_final['pop_sublocation_est_final'] = df_final.weights * df_final.pop_location_actual"
   ]
  },
  {
   "cell_type": "code",
   "execution_count": null,
   "metadata": {
    "collapsed": false
   },
   "outputs": [],
   "source": [
    "# Root mean square error\n",
    "df_final['error_subloc_final'] = df_final.pop_sublocation_est_final - df_final.pop_sublocation_actual\n",
    "df_final['sq_error_subloc_final'] = df_final.error_subloc_final**2\n",
    "rmse_final = np.sqrt(df_final.sq_error_subloc_final.mean())\n",
    "print 'The root mean squared error is: ', rmse_final\n",
    "\n",
    "# %RMSE: RMSE / mean(population_subloc)\n",
    "pc_rmse_final = 100 * rmse_final / df_final.pop_sublocation_actual.mean()\n",
    "print 'The root mean squared percentage error is: ', pc_rmse_final\n",
    "\n",
    "# Mean absolute error\n",
    "df_final['abs_error_subloc_final'] = abs(df_final.pop_sublocation_est_final - df_final.pop_sublocation_actual)\n",
    "mae_final = df_final.abs_error_subloc_final.mean()\n",
    "print 'The mean absolute error is: ', mae_final"
   ]
  },
  {
   "cell_type": "code",
   "execution_count": null,
   "metadata": {
    "collapsed": false,
    "scrolled": true
   },
   "outputs": [],
   "source": [
    "sns.set_style(\"white\")\n",
    "plt.scatter(df_final.pop_sublocation_est_final, df_final.pop_sublocation_actual)\n",
    "plt.axis([0, 120000, 0, 120000])\n",
    "sns.axlabel('Estimated population', 'Actual population')\n",
    "plt.savefig('scatter.png', bbox_inches='tight', dpi=300)"
   ]
  },
  {
   "cell_type": "markdown",
   "metadata": {},
   "source": [
    "Wow. Wow."
   ]
  },
  {
   "cell_type": "markdown",
   "metadata": {
    "collapsed": true
   },
   "source": [
    "** Mapping **"
   ]
  },
  {
   "cell_type": "code",
   "execution_count": null,
   "metadata": {
    "collapsed": true
   },
   "outputs": [],
   "source": [
    "df_geo = gpd.GeoDataFrame.from_file('../data/shapefiles/ke/sublocations/ke_1999.shp')\n",
    "df_geo = df_geo.rename(columns={'SLID': 'sublocation_id'})"
   ]
  },
  {
   "cell_type": "code",
   "execution_count": null,
   "metadata": {
    "collapsed": false
   },
   "outputs": [],
   "source": [
    "df_geo_sl = pd.merge(df_final, df_geo, on = 'sublocation_id', how = 'inner')\n",
    "df_geo_sl = gpd.GeoDataFrame(df_geo_sl)\n",
    "df_geo_sl.tail()"
   ]
  },
  {
   "cell_type": "markdown",
   "metadata": {},
   "source": [
    "Plotting maps.\n",
    "\n",
    "Taken from: http://nbviewer.jupyter.org/gist/jorisvandenbossche/d4e6efedfa1e4e91ab65"
   ]
  },
  {
   "cell_type": "code",
   "execution_count": null,
   "metadata": {
    "collapsed": true
   },
   "outputs": [],
   "source": [
    "import numpy as np\n",
    "from geopandas.plotting import (plot_linestring, plot_point, norm_cmap)\n",
    "\n",
    "\n",
    "def plot_dataframe(s, column=None, colormap=None, alpha=0.5,\n",
    "                   categorical=False, legend=False, axes=None, scheme=None,\n",
    "                   k=5, linewidth=1):\n",
    "    \"\"\" Plot a GeoDataFrame\n",
    "\n",
    "        Generate a plot of a GeoDataFrame with matplotlib.  If a\n",
    "        column is specified, the plot coloring will be based on values\n",
    "        in that column.  Otherwise, a categorical plot of the\n",
    "        geometries in the `geometry` column will be generated.\n",
    "\n",
    "        Parameters\n",
    "        ----------\n",
    "\n",
    "        GeoDataFrame\n",
    "            The GeoDataFrame to be plotted.  Currently Polygon,\n",
    "            MultiPolygon, LineString, MultiLineString and Point\n",
    "            geometries can be plotted.\n",
    "\n",
    "        column : str (default None)\n",
    "            The name of the column to be plotted.\n",
    "\n",
    "        categorical : bool (default False)\n",
    "            If False, colormap will reflect numerical values of the\n",
    "            column being plotted.  For non-numerical columns (or if\n",
    "            column=None), this will be set to True.\n",
    "\n",
    "        colormap : str (default 'Set1')\n",
    "            The name of a colormap recognized by matplotlib.\n",
    "\n",
    "        alpha : float (default 0.5)\n",
    "            Alpha value for polygon fill regions.  Has no effect for\n",
    "            lines or points.\n",
    "\n",
    "        legend : bool (default False)\n",
    "            Plot a legend (Experimental; currently for categorical\n",
    "            plots only)\n",
    "\n",
    "        axes : matplotlib.pyplot.Artist (default None)\n",
    "            axes on which to draw the plot\n",
    "\n",
    "        scheme : pysal.esda.mapclassify.Map_Classifier\n",
    "            Choropleth classification schemes\n",
    "\n",
    "        k   : int (default 5)\n",
    "            Number of classes (ignored if scheme is None)\n",
    "\n",
    "\n",
    "        Returns\n",
    "        -------\n",
    "\n",
    "        matplotlib axes instance\n",
    "    \"\"\"\n",
    "    import matplotlib.pyplot as plt\n",
    "    from matplotlib.lines import Line2D\n",
    "    from matplotlib.colors import Normalize\n",
    "    from matplotlib import cm\n",
    "\n",
    "    if column is None:\n",
    "        return plot_series(s.geometry, colormap=colormap, alpha=alpha, axes=axes)\n",
    "    else:\n",
    "        if s[column].dtype is np.dtype('O'):\n",
    "            categorical = True\n",
    "        if categorical:\n",
    "            if colormap is None:\n",
    "                colormap = 'Set1'\n",
    "            categories = list(set(s[column].values))\n",
    "            categories.sort()\n",
    "            valuemap = dict([(k, v) for (v, k) in enumerate(categories)])\n",
    "            values = [valuemap[k] for k in s[column]]\n",
    "        else:\n",
    "            values = s[column]\n",
    "        if scheme is not None:\n",
    "            binning = __pysal_choro(values, scheme, k=k)\n",
    "            values = binning.yb\n",
    "            # set categorical to True for creating the legend\n",
    "            categorical = True\n",
    "            binedges = [binning.yb.min()] + binning.bins.tolist()\n",
    "            categories = ['{0:.2f} - {1:.2f}'.format(binedges[i], binedges[i+1]) for i in range(len(binedges)-1)]\n",
    "        cmap = norm_cmap(values, colormap, Normalize, cm)\n",
    "        if axes == None:\n",
    "            fig = plt.gcf()\n",
    "            fig.add_subplot(111, aspect='equal')\n",
    "            ax = plt.gca()\n",
    "        else:\n",
    "            ax = axes\n",
    "        for geom, value in zip(s.geometry, values):\n",
    "            if geom.type == 'Polygon' or geom.type == 'MultiPolygon':\n",
    "                plot_multipolygon(ax, geom, facecolor=cmap.to_rgba(value), alpha=alpha, linewidth=linewidth)\n",
    "            elif geom.type == 'LineString' or geom.type == 'MultiLineString':\n",
    "                plot_multilinestring(ax, geom, color=cmap.to_rgba(value))\n",
    "            # TODO: color point geometries\n",
    "            elif geom.type == 'Point':\n",
    "                plot_point(ax, geom, color=cmap.to_rgba(value))\n",
    "        if legend:\n",
    "            if categorical:\n",
    "                patches = []\n",
    "                for value, cat in enumerate(categories):\n",
    "                    patches.append(Line2D([0], [0], linestyle=\"none\",\n",
    "                                          marker=\"o\", alpha=alpha,\n",
    "                                          markersize=10, markerfacecolor=cmap.to_rgba(value)))\n",
    "                ax.legend(patches, categories, numpoints=1, loc='best')\n",
    "            else:\n",
    "                # TODO: show a colorbar\n",
    "                raise NotImplementedError\n",
    "\n",
    "    plt.draw()\n",
    "    return ax"
   ]
  },
  {
   "cell_type": "code",
   "execution_count": null,
   "metadata": {
    "collapsed": false
   },
   "outputs": [],
   "source": [
    "df_geo_sl_prov = df_geo_sl[df_geo_sl.PROVID == 2.0]"
   ]
  },
  {
   "cell_type": "code",
   "execution_count": null,
   "metadata": {
    "collapsed": false
   },
   "outputs": [],
   "source": [
    "sns.set_style(\"white\")\n",
    "df_geo_sl_prov.plot(column='pop_sublocation_est_final', linewidth=0.25, figsize=(10, 10), scheme='Quantiles', k=5, colormap='winter', legend=True)\n",
    "sns.axlabel('Longitude', 'Latitude')\n",
    "plt.savefig('map_est.png', bbox_inches='tight', dpi=300)"
   ]
  },
  {
   "cell_type": "code",
   "execution_count": null,
   "metadata": {
    "collapsed": false
   },
   "outputs": [],
   "source": [
    "df_geo_sl_prov.plot(column='pop_sublocation_actual', linewidth=0.25, figsize=(10, 10), scheme='Quantiles', k=5, colormap='winter', legend=True)\n",
    "sns.axlabel('Longitude', 'Latitude')\n",
    "plt.savefig('map_actual.png', bbox_inches='tight', dpi=300)"
   ]
  },
  {
   "cell_type": "code",
   "execution_count": null,
   "metadata": {
    "collapsed": false
   },
   "outputs": [],
   "source": [
    "df_geo_sl_prov.plot(column='error_subloc_final', linewidth=0.25, figsize=(10, 10), scheme='Quantiles', k=5, colormap='seismic', legend=True)\n",
    "sns.axlabel('Longitude', 'Latitude')\n",
    "plt.savefig('map_error.png', bbox_inches='tight', dpi=300)"
   ]
  },
  {
   "cell_type": "code",
   "execution_count": null,
   "metadata": {
    "collapsed": true
   },
   "outputs": [],
   "source": []
  }
 ],
 "metadata": {
  "kernelspec": {
   "display_name": "Python 3",
   "language": "python",
   "name": "python3"
  },
  "language_info": {
   "codemirror_mode": {
    "name": "ipython",
    "version": 3
   },
   "file_extension": ".py",
   "mimetype": "text/x-python",
   "name": "python",
   "nbconvert_exporter": "python",
   "pygments_lexer": "ipython3",
   "version": "3.5.2"
  }
 },
 "nbformat": 4,
 "nbformat_minor": 0
}
