{
 "cells": [
  {
   "cell_type": "markdown",
   "metadata": {},
   "source": [
    "### Sandpit\n",
    "\n",
    "Goal: figure out how to use model to predict a region's pop density"
   ]
  },
  {
   "cell_type": "code",
   "execution_count": 1,
   "metadata": {
    "collapsed": true
   },
   "outputs": [],
   "source": [
    "%matplotlib inline\n",
    "import numpy as np\n",
    "import pandas as pd\n",
    "import os, osr\n",
    "import matplotlib.pyplot as plt\n",
    "import matplotlib.cm as cm\n",
    "from matplotlib.colors import Normalize\n",
    "from matplotlib.collections import PatchCollection\n",
    "from mpl_toolkits.basemap import Basemap\n",
    "\n",
    "from geopandas import GeoDataFrame, GeoSeries, read_file\n",
    "from shapely.geometry import Point, Polygon, MultiPolygon, shape\n",
    "from shapely.prepared import prep\n",
    "import shapely.ops as ops\n",
    "from pandas import Series, DataFrame\n",
    "from descartes import PolygonPatch\n",
    "import fiona\n",
    "import rasterio\n",
    "from osgeo import gdal, ogr\n",
    "from rtree import index\n",
    "import shapefile\n",
    "from itertools import *\n",
    "from functools import partial\n",
    "import pyproj\n",
    "import pickle, cPickle"
   ]
  },
  {
   "cell_type": "code",
   "execution_count": 2,
   "metadata": {
    "collapsed": false
   },
   "outputs": [],
   "source": [
    "db_county = GeoDataFrame.from_file('send_amazon/county_2010_census/County_2010Census_DP1.shp')"
   ]
  },
  {
   "cell_type": "code",
   "execution_count": 3,
   "metadata": {
    "collapsed": true
   },
   "outputs": [],
   "source": [
    "area_sq_degrees = db_county['geometry']\n",
    "area_sq_km = []\n",
    "\n",
    "for region in area_sq_degrees:\n",
    "    geom_area = ops.transform(\n",
    "        partial(\n",
    "        pyproj.transform,\n",
    "        pyproj.Proj(init='EPSG:4326'),\n",
    "        pyproj.Proj(\n",
    "            proj='aea',\n",
    "            lat1=region.bounds[1],\n",
    "            lat2=region.bounds[3])),\n",
    "        region)\n",
    "    area = geom_area.area / 1e6 # convert to km2\n",
    "    area_sq_km.append( area )\n",
    "\n",
    "db_county['area'] = area_sq_km"
   ]
  },
  {
   "cell_type": "code",
   "execution_count": 4,
   "metadata": {
    "collapsed": false
   },
   "outputs": [],
   "source": [
    "interpolated_pop = cPickle.load(file('mapping/y_interpolated.save', 'rb'))\n",
    "interpolated_loc = cPickle.load(file('mapping/location.save', 'rb'))"
   ]
  },
  {
   "cell_type": "code",
   "execution_count": 5,
   "metadata": {
    "collapsed": false
   },
   "outputs": [
    {
     "data": {
      "text/html": [
       "<div>\n",
       "<table border=\"1\" class=\"dataframe\">\n",
       "  <thead>\n",
       "    <tr style=\"text-align: right;\">\n",
       "      <th></th>\n",
       "      <th>0</th>\n",
       "      <th>pop</th>\n",
       "    </tr>\n",
       "  </thead>\n",
       "  <tbody>\n",
       "    <tr>\n",
       "      <th>0</th>\n",
       "      <td>POINT (-124.8568413397723 49.0030987487199)</td>\n",
       "      <td>0.290811</td>\n",
       "    </tr>\n",
       "    <tr>\n",
       "      <th>1</th>\n",
       "      <td>POINT (-124.8478581869311 49.0030987487199)</td>\n",
       "      <td>0.297293</td>\n",
       "    </tr>\n",
       "    <tr>\n",
       "      <th>2</th>\n",
       "      <td>POINT (-124.8388750340899 49.0030987487199)</td>\n",
       "      <td>0.310353</td>\n",
       "    </tr>\n",
       "    <tr>\n",
       "      <th>3</th>\n",
       "      <td>POINT (-124.8298918812487 49.0030987487199)</td>\n",
       "      <td>0.235003</td>\n",
       "    </tr>\n",
       "    <tr>\n",
       "      <th>4</th>\n",
       "      <td>POINT (-124.8209087284075 49.0030987487199)</td>\n",
       "      <td>0.191417</td>\n",
       "    </tr>\n",
       "  </tbody>\n",
       "</table>\n",
       "</div>"
      ],
      "text/plain": [
       "                                             0       pop\n",
       "0  POINT (-124.8568413397723 49.0030987487199)  0.290811\n",
       "1  POINT (-124.8478581869311 49.0030987487199)  0.297293\n",
       "2  POINT (-124.8388750340899 49.0030987487199)  0.310353\n",
       "3  POINT (-124.8298918812487 49.0030987487199)  0.235003\n",
       "4  POINT (-124.8209087284075 49.0030987487199)  0.191417"
      ]
     },
     "execution_count": 5,
     "metadata": {},
     "output_type": "execute_result"
    }
   ],
   "source": [
    "db = GeoDataFrame(interpolated_loc)\n",
    "db['pop'] = interpolated_pop\n",
    "db.head()"
   ]
  },
  {
   "cell_type": "code",
   "execution_count": 8,
   "metadata": {
    "collapsed": false
   },
   "outputs": [
    {
     "data": {
      "text/html": [
       "<div>\n",
       "<table border=\"1\" class=\"dataframe\">\n",
       "  <thead>\n",
       "    <tr style=\"text-align: right;\">\n",
       "      <th></th>\n",
       "      <th>ALAND10</th>\n",
       "      <th>AWATER10</th>\n",
       "      <th>DP0010001</th>\n",
       "      <th>DP0010002</th>\n",
       "      <th>DP0010003</th>\n",
       "      <th>DP0010004</th>\n",
       "      <th>DP0010005</th>\n",
       "      <th>DP0010006</th>\n",
       "      <th>DP0010007</th>\n",
       "      <th>DP0010008</th>\n",
       "      <th>...</th>\n",
       "      <th>DP0230002</th>\n",
       "      <th>FUNCSTAT10</th>\n",
       "      <th>GEOID10</th>\n",
       "      <th>INTPTLAT10</th>\n",
       "      <th>INTPTLON10</th>\n",
       "      <th>NAMELSAD10</th>\n",
       "      <th>Shape_Area</th>\n",
       "      <th>Shape_Leng</th>\n",
       "      <th>geometry</th>\n",
       "      <th>area</th>\n",
       "    </tr>\n",
       "  </thead>\n",
       "  <tbody>\n",
       "    <tr>\n",
       "      <th>0</th>\n",
       "      <td>18083148800</td>\n",
       "      <td>20792209033</td>\n",
       "      <td>3141</td>\n",
       "      <td>123</td>\n",
       "      <td>105</td>\n",
       "      <td>88</td>\n",
       "      <td>104</td>\n",
       "      <td>249</td>\n",
       "      <td>301</td>\n",
       "      <td>213</td>\n",
       "      <td>...</td>\n",
       "      <td>2.50</td>\n",
       "      <td>A</td>\n",
       "      <td>02013</td>\n",
       "      <td>+55.2437223</td>\n",
       "      <td>-161.9507485</td>\n",
       "      <td>Aleutians East Borough</td>\n",
       "      <td>5.487726</td>\n",
       "      <td>31.272921</td>\n",
       "      <td>(POLYGON ((-162.637688 54.80112099999991, -162...</td>\n",
       "      <td>38875.556225</td>\n",
       "    </tr>\n",
       "    <tr>\n",
       "      <th>1</th>\n",
       "      <td>11370762625</td>\n",
       "      <td>25190643524</td>\n",
       "      <td>5561</td>\n",
       "      <td>205</td>\n",
       "      <td>227</td>\n",
       "      <td>226</td>\n",
       "      <td>249</td>\n",
       "      <td>334</td>\n",
       "      <td>517</td>\n",
       "      <td>455</td>\n",
       "      <td>...</td>\n",
       "      <td>2.35</td>\n",
       "      <td>S</td>\n",
       "      <td>02016</td>\n",
       "      <td>+51.9594469</td>\n",
       "      <td>+178.3388130</td>\n",
       "      <td>Aleutians West Census Area</td>\n",
       "      <td>4.858873</td>\n",
       "      <td>53.175472</td>\n",
       "      <td>(POLYGON ((177.445931 52.11133300000012, 177.4...</td>\n",
       "      <td>36561.358733</td>\n",
       "    </tr>\n",
       "    <tr>\n",
       "      <th>2</th>\n",
       "      <td>1774515519</td>\n",
       "      <td>51767046</td>\n",
       "      <td>34707</td>\n",
       "      <td>2552</td>\n",
       "      <td>2485</td>\n",
       "      <td>2626</td>\n",
       "      <td>2733</td>\n",
       "      <td>2200</td>\n",
       "      <td>2094</td>\n",
       "      <td>2062</td>\n",
       "      <td>...</td>\n",
       "      <td>2.74</td>\n",
       "      <td>A</td>\n",
       "      <td>28107</td>\n",
       "      <td>+34.3652052</td>\n",
       "      <td>-089.9630654</td>\n",
       "      <td>Panola County</td>\n",
       "      <td>0.178973</td>\n",
       "      <td>1.733565</td>\n",
       "      <td>POLYGON ((-90.13476199999997 34.2260290000001,...</td>\n",
       "      <td>1826.282563</td>\n",
       "    </tr>\n",
       "    <tr>\n",
       "      <th>3</th>\n",
       "      <td>1497282694</td>\n",
       "      <td>3879399</td>\n",
       "      <td>21720</td>\n",
       "      <td>1528</td>\n",
       "      <td>1609</td>\n",
       "      <td>1510</td>\n",
       "      <td>1867</td>\n",
       "      <td>1275</td>\n",
       "      <td>1218</td>\n",
       "      <td>1282</td>\n",
       "      <td>...</td>\n",
       "      <td>2.52</td>\n",
       "      <td>A</td>\n",
       "      <td>28101</td>\n",
       "      <td>+32.4019702</td>\n",
       "      <td>-089.1184115</td>\n",
       "      <td>Newton County</td>\n",
       "      <td>0.143887</td>\n",
       "      <td>1.523373</td>\n",
       "      <td>POLYGON ((-89.1349669999999 32.57697100000001,...</td>\n",
       "      <td>1501.162126</td>\n",
       "    </tr>\n",
       "    <tr>\n",
       "      <th>4</th>\n",
       "      <td>1430818231</td>\n",
       "      <td>79539470</td>\n",
       "      <td>26151</td>\n",
       "      <td>2115</td>\n",
       "      <td>2015</td>\n",
       "      <td>2156</td>\n",
       "      <td>2327</td>\n",
       "      <td>1905</td>\n",
       "      <td>1651</td>\n",
       "      <td>1493</td>\n",
       "      <td>...</td>\n",
       "      <td>2.68</td>\n",
       "      <td>A</td>\n",
       "      <td>28027</td>\n",
       "      <td>+34.2286699</td>\n",
       "      <td>-090.6031650</td>\n",
       "      <td>Coahoma County</td>\n",
       "      <td>0.147780</td>\n",
       "      <td>2.517210</td>\n",
       "      <td>POLYGON ((-90.59062499999999 33.986897, -90.59...</td>\n",
       "      <td>1510.357780</td>\n",
       "    </tr>\n",
       "  </tbody>\n",
       "</table>\n",
       "<p>5 rows × 197 columns</p>\n",
       "</div>"
      ],
      "text/plain": [
       "       ALAND10     AWATER10  DP0010001  DP0010002  DP0010003  DP0010004  \\\n",
       "0  18083148800  20792209033       3141        123        105         88   \n",
       "1  11370762625  25190643524       5561        205        227        226   \n",
       "2   1774515519     51767046      34707       2552       2485       2626   \n",
       "3   1497282694      3879399      21720       1528       1609       1510   \n",
       "4   1430818231     79539470      26151       2115       2015       2156   \n",
       "\n",
       "   DP0010005  DP0010006  DP0010007  DP0010008      ...       DP0230002  \\\n",
       "0        104        249        301        213      ...            2.50   \n",
       "1        249        334        517        455      ...            2.35   \n",
       "2       2733       2200       2094       2062      ...            2.74   \n",
       "3       1867       1275       1218       1282      ...            2.52   \n",
       "4       2327       1905       1651       1493      ...            2.68   \n",
       "\n",
       "   FUNCSTAT10  GEOID10   INTPTLAT10    INTPTLON10                  NAMELSAD10  \\\n",
       "0           A    02013  +55.2437223  -161.9507485      Aleutians East Borough   \n",
       "1           S    02016  +51.9594469  +178.3388130  Aleutians West Census Area   \n",
       "2           A    28107  +34.3652052  -089.9630654               Panola County   \n",
       "3           A    28101  +32.4019702  -089.1184115               Newton County   \n",
       "4           A    28027  +34.2286699  -090.6031650              Coahoma County   \n",
       "\n",
       "   Shape_Area  Shape_Leng                                           geometry  \\\n",
       "0    5.487726   31.272921  (POLYGON ((-162.637688 54.80112099999991, -162...   \n",
       "1    4.858873   53.175472  (POLYGON ((177.445931 52.11133300000012, 177.4...   \n",
       "2    0.178973    1.733565  POLYGON ((-90.13476199999997 34.2260290000001,...   \n",
       "3    0.143887    1.523373  POLYGON ((-89.1349669999999 32.57697100000001,...   \n",
       "4    0.147780    2.517210  POLYGON ((-90.59062499999999 33.986897, -90.59...   \n",
       "\n",
       "           area  \n",
       "0  38875.556225  \n",
       "1  36561.358733  \n",
       "2   1826.282563  \n",
       "3   1501.162126  \n",
       "4   1510.357780  \n",
       "\n",
       "[5 rows x 197 columns]"
      ]
     },
     "execution_count": 8,
     "metadata": {},
     "output_type": "execute_result"
    }
   ],
   "source": [
    "db_county.head()"
   ]
  },
  {
   "cell_type": "code",
   "execution_count": 9,
   "metadata": {
    "collapsed": true
   },
   "outputs": [],
   "source": [
    "# Spatial index\n",
    "county_blocks = np.array(db_county['geometry'])\n",
    "idx = index.Index()\n",
    "count = 0\n",
    "for c_block in county_blocks:\n",
    "    idx.insert(count, c_block.bounds)\n",
    "    count += 1\n",
    "\n",
    "# for each point\n",
    "pixels_location = db[0]"
   ]
  },
  {
   "cell_type": "code",
   "execution_count": 10,
   "metadata": {
    "collapsed": true
   },
   "outputs": [],
   "source": [
    "pixel_county = []\n",
    "count = 0\n",
    "for pixel in pixels_location:\n",
    "    temp_polygon = None\n",
    "    for j in idx.intersection((pixel.x, pixel.y)):\n",
    "        if pixel.within(county_blocks[j]):\n",
    "            temp_polygon = county_blocks[j]\n",
    "            break\n",
    "    pixel_county.append([count, temp_polygon, pixel.x, pixel.y])\n",
    "    count += 1"
   ]
  },
  {
   "cell_type": "code",
   "execution_count": 11,
   "metadata": {
    "collapsed": true
   },
   "outputs": [],
   "source": [
    "pixel_county = GeoDataFrame(pixel_county)\n",
    "pixel_county.columns = ['count','poly', 'latitude', 'longitude']\n",
    "db['latitude_u'] = pixel_county['latitude']\n",
    "db['longitude_u'] = pixel_county['longitude']\n",
    "db['county_geometry'] = pixel_county['poly'] "
   ]
  },
  {
   "cell_type": "code",
   "execution_count": 29,
   "metadata": {
    "collapsed": false
   },
   "outputs": [
    {
     "data": {
      "text/plain": [
       "(-161.94793535763748, 55.224436388524815)"
      ]
     },
     "execution_count": 29,
     "metadata": {},
     "output_type": "execute_result"
    }
   ],
   "source": [
    "db_county.ix[0]['geometry'].centroid.x, db_county.ix[0]['geometry'].centroid.y"
   ]
  },
  {
   "cell_type": "code",
   "execution_count": 47,
   "metadata": {
    "collapsed": false
   },
   "outputs": [],
   "source": [
    "def getXY(pt):\n",
    "    return (pt.x, pt.y)\n",
    "\n",
    "centroidseries = db_county['geometry'].centroid\n",
    "x,y = [list(t) for t in zip(*map(getXY, centroidseries))]"
   ]
  },
  {
   "cell_type": "code",
   "execution_count": 48,
   "metadata": {
    "collapsed": false
   },
   "outputs": [
    {
     "name": "stderr",
     "output_type": "stream",
     "text": [
      "/anaconda/envs/pygeo/lib/python2.7/site-packages/ipykernel/__main__.py:1: SettingWithCopyWarning: \n",
      "A value is trying to be set on a copy of a slice from a DataFrame.\n",
      "Try using .loc[row_indexer,col_indexer] = value instead\n",
      "\n",
      "See the the caveats in the documentation: http://pandas.pydata.org/pandas-docs/stable/indexing.html#indexing-view-versus-copy\n",
      "  if __name__ == '__main__':\n",
      "/anaconda/envs/pygeo/lib/python2.7/site-packages/ipykernel/__main__.py:2: SettingWithCopyWarning: \n",
      "A value is trying to be set on a copy of a slice from a DataFrame.\n",
      "Try using .loc[row_indexer,col_indexer] = value instead\n",
      "\n",
      "See the the caveats in the documentation: http://pandas.pydata.org/pandas-docs/stable/indexing.html#indexing-view-versus-copy\n",
      "  from ipykernel import kernelapp as app\n"
     ]
    }
   ],
   "source": [
    "db_county['latitude'] = x\n",
    "db_county['longitude'] = y\n",
    "south_east_lat = -115.114746\n",
    "south_east_lon = 41.730330\n",
    "db_county = db_county[ (db_county['latitude'] <  south_east_lat ) & \n",
    "                      (db_county['longitude'] > south_east_lon) ]\n",
    "north_west_lat = -125.8\n",
    "north_west_lon = 42.6\n",
    "db_county = db_county[ (db_county['latitude'] >  north_west_lat ) & \n",
    "                      (db_county['longitude'] <  north_west_lon ) ]"
   ]
  },
  {
   "cell_type": "code",
   "execution_count": 49,
   "metadata": {
    "collapsed": false
   },
   "outputs": [
    {
     "data": {
      "text/html": [
       "<div>\n",
       "<table border=\"1\" class=\"dataframe\">\n",
       "  <thead>\n",
       "    <tr style=\"text-align: right;\">\n",
       "      <th></th>\n",
       "      <th>ALAND10</th>\n",
       "      <th>AWATER10</th>\n",
       "      <th>DP0010001</th>\n",
       "      <th>DP0010002</th>\n",
       "      <th>DP0010003</th>\n",
       "      <th>DP0010004</th>\n",
       "      <th>DP0010005</th>\n",
       "      <th>DP0010006</th>\n",
       "      <th>DP0010007</th>\n",
       "      <th>DP0010008</th>\n",
       "      <th>...</th>\n",
       "      <th>GEOID10</th>\n",
       "      <th>INTPTLAT10</th>\n",
       "      <th>INTPTLON10</th>\n",
       "      <th>NAMELSAD10</th>\n",
       "      <th>Shape_Area</th>\n",
       "      <th>Shape_Leng</th>\n",
       "      <th>geometry</th>\n",
       "      <th>area</th>\n",
       "      <th>latitude</th>\n",
       "      <th>longitude</th>\n",
       "    </tr>\n",
       "  </thead>\n",
       "  <tbody>\n",
       "    <tr>\n",
       "      <th>456</th>\n",
       "      <td>7209356169</td>\n",
       "      <td>46880700</td>\n",
       "      <td>203206</td>\n",
       "      <td>11972</td>\n",
       "      <td>11775</td>\n",
       "      <td>12582</td>\n",
       "      <td>13249</td>\n",
       "      <td>12176</td>\n",
       "      <td>11908</td>\n",
       "      <td>11562</td>\n",
       "      <td>...</td>\n",
       "      <td>41029</td>\n",
       "      <td>+42.4117820</td>\n",
       "      <td>-122.6757974</td>\n",
       "      <td>Jackson County</td>\n",
       "      <td>0.793849</td>\n",
       "      <td>3.903704</td>\n",
       "      <td>POLYGON ((-122.9510379999999 42.76730400000008...</td>\n",
       "      <td>7256.235850</td>\n",
       "      <td>-122.728431</td>\n",
       "      <td>42.432149</td>\n",
       "    </tr>\n",
       "    <tr>\n",
       "      <th>457</th>\n",
       "      <td>4215100613</td>\n",
       "      <td>934686544</td>\n",
       "      <td>22364</td>\n",
       "      <td>851</td>\n",
       "      <td>893</td>\n",
       "      <td>1046</td>\n",
       "      <td>1110</td>\n",
       "      <td>820</td>\n",
       "      <td>897</td>\n",
       "      <td>795</td>\n",
       "      <td>...</td>\n",
       "      <td>41015</td>\n",
       "      <td>+42.4666711</td>\n",
       "      <td>-124.2114065</td>\n",
       "      <td>Curry County</td>\n",
       "      <td>0.563709</td>\n",
       "      <td>4.672198</td>\n",
       "      <td>POLYGON ((-124.544129 42.68381700000003, -124....</td>\n",
       "      <td>5149.830773</td>\n",
       "      <td>-124.215341</td>\n",
       "      <td>42.466614</td>\n",
       "    </tr>\n",
       "    <tr>\n",
       "      <th>781</th>\n",
       "      <td>4246719858</td>\n",
       "      <td>5644013</td>\n",
       "      <td>82713</td>\n",
       "      <td>4198</td>\n",
       "      <td>4428</td>\n",
       "      <td>4986</td>\n",
       "      <td>5139</td>\n",
       "      <td>3893</td>\n",
       "      <td>3864</td>\n",
       "      <td>3988</td>\n",
       "      <td>...</td>\n",
       "      <td>41033</td>\n",
       "      <td>+42.3853819</td>\n",
       "      <td>-123.5972453</td>\n",
       "      <td>Josephine County</td>\n",
       "      <td>0.464731</td>\n",
       "      <td>3.456397</td>\n",
       "      <td>POLYGON ((-123.805993 42.21683700000006, -123....</td>\n",
       "      <td>4252.374799</td>\n",
       "      <td>-123.555580</td>\n",
       "      <td>42.365460</td>\n",
       "    </tr>\n",
       "    <tr>\n",
       "      <th>1643</th>\n",
       "      <td>2606493856</td>\n",
       "      <td>578525663</td>\n",
       "      <td>28610</td>\n",
       "      <td>1703</td>\n",
       "      <td>1567</td>\n",
       "      <td>1718</td>\n",
       "      <td>1870</td>\n",
       "      <td>1799</td>\n",
       "      <td>2081</td>\n",
       "      <td>2000</td>\n",
       "      <td>...</td>\n",
       "      <td>06015</td>\n",
       "      <td>+41.7499033</td>\n",
       "      <td>-123.9809983</td>\n",
       "      <td>Del Norte County</td>\n",
       "      <td>0.344748</td>\n",
       "      <td>3.367698</td>\n",
       "      <td>POLYGON ((-124.3161129999999 41.72838999999999...</td>\n",
       "      <td>3185.031613</td>\n",
       "      <td>-123.957814</td>\n",
       "      <td>41.744957</td>\n",
       "    </tr>\n",
       "    <tr>\n",
       "      <th>2379</th>\n",
       "      <td>19853582270</td>\n",
       "      <td>81509222</td>\n",
       "      <td>11526</td>\n",
       "      <td>886</td>\n",
       "      <td>940</td>\n",
       "      <td>967</td>\n",
       "      <td>873</td>\n",
       "      <td>630</td>\n",
       "      <td>599</td>\n",
       "      <td>739</td>\n",
       "      <td>...</td>\n",
       "      <td>16073</td>\n",
       "      <td>+42.5930630</td>\n",
       "      <td>-116.1426554</td>\n",
       "      <td>Owyhee County</td>\n",
       "      <td>2.186024</td>\n",
       "      <td>7.240013</td>\n",
       "      <td>POLYGON ((-115.9868799999999 41.99853400000006...</td>\n",
       "      <td>19934.286400</td>\n",
       "      <td>-116.169979</td>\n",
       "      <td>42.581531</td>\n",
       "    </tr>\n",
       "  </tbody>\n",
       "</table>\n",
       "<p>5 rows × 199 columns</p>\n",
       "</div>"
      ],
      "text/plain": [
       "          ALAND10   AWATER10  DP0010001  DP0010002  DP0010003  DP0010004  \\\n",
       "456    7209356169   46880700     203206      11972      11775      12582   \n",
       "457    4215100613  934686544      22364        851        893       1046   \n",
       "781    4246719858    5644013      82713       4198       4428       4986   \n",
       "1643   2606493856  578525663      28610       1703       1567       1718   \n",
       "2379  19853582270   81509222      11526        886        940        967   \n",
       "\n",
       "      DP0010005  DP0010006  DP0010007  DP0010008    ...      GEOID10  \\\n",
       "456       13249      12176      11908      11562    ...        41029   \n",
       "457        1110        820        897        795    ...        41015   \n",
       "781        5139       3893       3864       3988    ...        41033   \n",
       "1643       1870       1799       2081       2000    ...        06015   \n",
       "2379        873        630        599        739    ...        16073   \n",
       "\n",
       "       INTPTLAT10    INTPTLON10        NAMELSAD10  Shape_Area  Shape_Leng  \\\n",
       "456   +42.4117820  -122.6757974    Jackson County    0.793849    3.903704   \n",
       "457   +42.4666711  -124.2114065      Curry County    0.563709    4.672198   \n",
       "781   +42.3853819  -123.5972453  Josephine County    0.464731    3.456397   \n",
       "1643  +41.7499033  -123.9809983  Del Norte County    0.344748    3.367698   \n",
       "2379  +42.5930630  -116.1426554     Owyhee County    2.186024    7.240013   \n",
       "\n",
       "                                               geometry          area  \\\n",
       "456   POLYGON ((-122.9510379999999 42.76730400000008...   7256.235850   \n",
       "457   POLYGON ((-124.544129 42.68381700000003, -124....   5149.830773   \n",
       "781   POLYGON ((-123.805993 42.21683700000006, -123....   4252.374799   \n",
       "1643  POLYGON ((-124.3161129999999 41.72838999999999...   3185.031613   \n",
       "2379  POLYGON ((-115.9868799999999 41.99853400000006...  19934.286400   \n",
       "\n",
       "        latitude  longitude  \n",
       "456  -122.728431  42.432149  \n",
       "457  -124.215341  42.466614  \n",
       "781  -123.555580  42.365460  \n",
       "1643 -123.957814  41.744957  \n",
       "2379 -116.169979  42.581531  \n",
       "\n",
       "[5 rows x 199 columns]"
      ]
     },
     "execution_count": 49,
     "metadata": {},
     "output_type": "execute_result"
    }
   ],
   "source": [
    "db_county.head()"
   ]
  },
  {
   "cell_type": "code",
   "execution_count": 58,
   "metadata": {
    "collapsed": false
   },
   "outputs": [],
   "source": [
    "db = db.dropna(subset=['geometry'], how='all')\n",
    "centroidseries = db['geometry'].centroid\n",
    "x,y = [list(t) for t in zip(*map(getXY, centroidseries))]\n",
    "db['latitude'] = x\n",
    "db['longitude'] = y"
   ]
  },
  {
   "cell_type": "code",
   "execution_count": 59,
   "metadata": {
    "collapsed": true
   },
   "outputs": [],
   "source": [
    "result = pd.merge(db, db_county, on=['latitude', 'longitude'])"
   ]
  },
  {
   "cell_type": "code",
   "execution_count": 69,
   "metadata": {
    "collapsed": false
   },
   "outputs": [],
   "source": [
    "variables = ['pop', 'geometry_y','geometry_x', 'area', 'NAMELSAD10', 'DP0010001']\n",
    "result = result[variables]"
   ]
  },
  {
   "cell_type": "code",
   "execution_count": 70,
   "metadata": {
    "collapsed": false
   },
   "outputs": [
    {
     "name": "stderr",
     "output_type": "stream",
     "text": [
      "/anaconda/envs/pygeo/lib/python2.7/site-packages/ipykernel/__main__.py:1: SettingWithCopyWarning: \n",
      "A value is trying to be set on a copy of a slice from a DataFrame.\n",
      "Try using .loc[row_indexer,col_indexer] = value instead\n",
      "\n",
      "See the the caveats in the documentation: http://pandas.pydata.org/pandas-docs/stable/indexing.html#indexing-view-versus-copy\n",
      "  if __name__ == '__main__':\n"
     ]
    }
   ],
   "source": [
    "result['actual_density'] = result['DP0010001'] / result['area'] "
   ]
  },
  {
   "cell_type": "code",
   "execution_count": 72,
   "metadata": {
    "collapsed": false
   },
   "outputs": [],
   "source": [
    "result.to_csv('website_database.csv')"
   ]
  },
  {
   "cell_type": "code",
   "execution_count": null,
   "metadata": {
    "collapsed": true
   },
   "outputs": [],
   "source": []
  }
 ],
 "metadata": {
  "kernelspec": {
   "display_name": "Python 2",
   "language": "python",
   "name": "python2"
  },
  "language_info": {
   "codemirror_mode": {
    "name": "ipython",
    "version": 2
   },
   "file_extension": ".py",
   "mimetype": "text/x-python",
   "name": "python",
   "nbconvert_exporter": "python",
   "pygments_lexer": "ipython2",
   "version": "2.7.11"
  }
 },
 "nbformat": 4,
 "nbformat_minor": 0
}
