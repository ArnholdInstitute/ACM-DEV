{
 "cells": [
  {
   "cell_type": "markdown",
   "metadata": {},
   "source": [
    "Creating a database for an additional state"
   ]
  },
  {
   "cell_type": "code",
   "execution_count": 1,
   "metadata": {
    "collapsed": false
   },
   "outputs": [],
   "source": [
    "%matplotlib inline\n",
    "import numpy as np\n",
    "import pandas as pd\n",
    "import os, osr\n",
    "import matplotlib.pyplot as plt\n",
    "import matplotlib.cm as cm\n",
    "from matplotlib.colors import Normalize\n",
    "from matplotlib.collections import PatchCollection\n",
    "from mpl_toolkits.basemap import Basemap\n",
    "\n",
    "from geopandas import GeoDataFrame, GeoSeries, read_file\n",
    "from shapely.geometry import Point, Polygon, MultiPolygon, shape\n",
    "from shapely.prepared import prep\n",
    "import shapely.ops as ops\n",
    "from pandas import Series, DataFrame\n",
    "from descartes import PolygonPatch\n",
    "import fiona\n",
    "import rasterio\n",
    "from osgeo import gdal, ogr\n",
    "from rtree import index\n",
    "import shapefile\n",
    "from itertools import *\n",
    "from functools import partial\n",
    "import pyproj\n",
    "import pickle"
   ]
  },
  {
   "cell_type": "code",
   "execution_count": 2,
   "metadata": {
    "collapsed": true
   },
   "outputs": [],
   "source": [
    "# organsing file names\n",
    "# data source\n",
    "state_name = 'Washington'\n",
    "year = '2010'\n",
    "channels = ['B1', 'B2', 'B3', 'B4', 'B5', 'B6_VCID_2', 'B7']\n",
    "folder_loc = 'LANDSAT_TOA/' + state_name + '/' "
   ]
  },
  {
   "cell_type": "markdown",
   "metadata": {},
   "source": [
    "[**Affine GeoTransform**](http://www.gdal.org/gdal_datamodel.html)\n",
    "\n",
    "GDAL datasets have two ways of describing the relationship between raster positions (in pixel/line coordinates) and georeferenced coordinates. The first, and most commonly used is the affine transform (the other is GCPs).\n",
    "\n",
    "The affine transform consists of six coefficients returned by GDALDataset::GetGeoTransform() which map pixel/line coordinates into georeferenced space using the following relationship:\n",
    "\n",
    "$    X_{geo} = GT(0) + pixel_X*GT(1) + pixel_Y*GT(2)$ \n",
    "\n",
    "$    Y_{geo} = GT(3) + pixel_X*GT(4) + pixel_Y*GT(5)$\n",
    "\n",
    "- In case of north up images, the GT(2) and GT(4) coefficients are zero. \n",
    "- GT(1) is pixel width\n",
    "- GT(5) is pixel height \n",
    "- The (GT(0),GT(3)) position is the top left corner of the top left pixel of the raster."
   ]
  },
  {
   "cell_type": "code",
   "execution_count": 3,
   "metadata": {
    "collapsed": true
   },
   "outputs": [],
   "source": [
    "def pixelToCoordinates(geotransform, column, row):\n",
    "    x_origin = geotransform[0]\n",
    "    y_origin = geotransform[3]\n",
    "    pixel_width = geotransform[1]\n",
    "    pixel_height = geotransform[5]\n",
    "    rotation_x = geotransform[2]\n",
    "    rotation_y = geotransform[4]\n",
    "    #\n",
    "    lon_coord = x_origin + (column * pixel_width) + (row * rotation_x)\n",
    "    lat_coord = y_origin + (column * rotation_y) + (row * pixel_height)\n",
    "    #\n",
    "    return (lon_coord, lat_coord)"
   ]
  },
  {
   "cell_type": "code",
   "execution_count": 4,
   "metadata": {
    "collapsed": false
   },
   "outputs": [
    {
     "name": "stdout",
     "output_type": "stream",
     "text": [
      "885 386 341610\n"
     ]
    }
   ],
   "source": [
    "data = []\n",
    "count = 0\n",
    "for extension in channels:\n",
    "    filename = folder_loc + state_name + '_' + year + '_' + extension + '.tif'\n",
    "    ds = gdal.Open(filename)\n",
    "    # getting data\n",
    "    if extension == 'B1':\n",
    "        ncols, nrows = ds.RasterXSize, ds.RasterYSize\n",
    "        print ncols, nrows, ncols*nrows\n",
    "        rows_grid, cols_grid = np.meshgrid(range(0,ncols), range(0,nrows))\n",
    "        cols_grid, rows_grid = rows_grid.flatten(), cols_grid.flatten()\n",
    "        # getting a series of lat lon points for each pixel\n",
    "        location_series = [Point(pixelToCoordinates(ds.GetGeoTransform(), col, row)) \\\n",
    "            for (col, row) in zip(cols_grid, rows_grid)]\n",
    "        # pixel data\n",
    "        band = ds.GetRasterBand(1)\n",
    "        array = band.ReadAsArray()\n",
    "        band_series = [array[row][col] for (col, row) in zip(cols_grid, rows_grid)]\n",
    "        data.append(band_series)\n",
    "    else:\n",
    "        band = ds.GetRasterBand(1)\n",
    "        array = band.ReadAsArray()\n",
    "        band_series = np.array([array[row][col] for (col, row) in zip(cols_grid, rows_grid)])\n",
    "        data.append(band_series)\n",
    "\n",
    "db_image = GeoDataFrame({\n",
    "    'location': location_series,\n",
    "    'B1': data[0],\n",
    "    'B2': data[1],\n",
    "    'B3': data[2],\n",
    "    'B4': data[3],\n",
    "    'B5': data[4],\n",
    "    'B6_VCID_2': data[5],\n",
    "    'B7': data[6],\n",
    "    })"
   ]
  },
  {
   "cell_type": "markdown",
   "metadata": {},
   "source": [
    "# Adding urban area data\n",
    "\n",
    "Adding a column indicating whether the area was an urban area according to [US Census Bureau](https://www.census.gov/geo/maps-data/data/cbf/cbf_ua.html)\n",
    "\n",
    "**Only one percent of Oregon pixels are in urban areas**"
   ]
  },
  {
   "cell_type": "code",
   "execution_count": 5,
   "metadata": {
    "collapsed": true
   },
   "outputs": [],
   "source": [
    "df_urban = GeoDataFrame.from_file('urban_areas/cb_2012_us_uac10_500k.shp')"
   ]
  },
  {
   "cell_type": "code",
   "execution_count": 6,
   "metadata": {
    "collapsed": false
   },
   "outputs": [],
   "source": [
    "# Only keeping urban areas in Oregon and Washington\n",
    "df_urban_wa_or = df_urban[(df_urban['NAME10'].str.contains('WA', case=True))]"
   ]
  },
  {
   "cell_type": "code",
   "execution_count": 7,
   "metadata": {
    "collapsed": false
   },
   "outputs": [],
   "source": [
    "# Spatial index\n",
    "urban_blocks = np.array(df_urban_wa_or['geometry'])\n",
    "idx = index.Index()\n",
    "count = 0\n",
    "for u_block in urban_blocks:\n",
    "    idx.insert(count, u_block.bounds)\n",
    "    count += 1\n",
    "\n",
    "# for each point\n",
    "pixels_location = db_image['location']"
   ]
  },
  {
   "cell_type": "code",
   "execution_count": 8,
   "metadata": {
    "collapsed": false
   },
   "outputs": [],
   "source": [
    "pixel_urban = []\n",
    "count = 0\n",
    "for pixel in pixels_location:\n",
    "    temp_polygon = None\n",
    "    temp_urban = None\n",
    "    for j in idx.intersection((pixel.x, pixel.y)):\n",
    "        if pixel.within(urban_blocks[j]):\n",
    "            temp_polygon = urban_blocks[j]\n",
    "            temp_urban = 1\n",
    "            break\n",
    "    pixel_urban.append([count, temp_polygon, temp_urban, pixel.x, pixel.y])\n",
    "    count += 1"
   ]
  },
  {
   "cell_type": "code",
   "execution_count": 9,
   "metadata": {
    "collapsed": false
   },
   "outputs": [],
   "source": [
    "pixel_urban = GeoDataFrame(pixel_urban)\n",
    "pixel_urban.columns = ['count','poly', 'urban', \n",
    "                             'latitude', 'longitude']\n",
    "db_image['urban'] = pixel_urban['urban']\n",
    "db_image['latitude_u'] = pixel_urban['latitude']\n",
    "db_image['longitude_u'] = pixel_urban['longitude']"
   ]
  },
  {
   "cell_type": "code",
   "execution_count": 10,
   "metadata": {
    "collapsed": false
   },
   "outputs": [
    {
     "data": {
      "text/plain": [
       "0.029358039870027223"
      ]
     },
     "execution_count": 10,
     "metadata": {},
     "output_type": "execute_result"
    }
   ],
   "source": [
    "# Only one percent of my pixels are in Urban areas!\n",
    "db_image['urban'].sum() /db_image.shape[0]"
   ]
  },
  {
   "cell_type": "code",
   "execution_count": 33,
   "metadata": {
    "collapsed": false
   },
   "outputs": [
    {
     "data": {
      "text/plain": [
       "<matplotlib.axes._subplots.AxesSubplot at 0x11ac64810>"
      ]
     },
     "execution_count": 33,
     "metadata": {},
     "output_type": "execute_result"
    },
    {
     "data": {
      "image/png": "[encoded data removed]",
      "text/plain": [
       "<matplotlib.figure.Figure at 0x11ae08450>"
      ]
     },
     "metadata": {},
     "output_type": "display_data"
    }
   ],
   "source": [
    "db_image['urban'].hist()"
   ]
  },
  {
   "cell_type": "markdown",
   "metadata": {},
   "source": [
    "If I'm stratifying on Urban/Rural, then we can do this here.\n",
    "\n",
    "Create images. Sample. Overlap is OK. Then repackage into a dataframe."
   ]
  },
  {
   "cell_type": "code",
   "execution_count": 12,
   "metadata": {
    "collapsed": false
   },
   "outputs": [],
   "source": [
    "# For Keras\n",
    "obs_size = 64\n",
    "nrows, ncols = ds.RasterYSize, ds.RasterXSize\n",
    "nobs = (nrows - obs_size) * (ncols - obs_size)"
   ]
  },
  {
   "cell_type": "code",
   "execution_count": 13,
   "metadata": {
    "collapsed": true
   },
   "outputs": [],
   "source": [
    "df_image = []\n",
    "for i in range(len(data)):\n",
    "    df_image.append( np.array(data[i]).reshape((nrows, ncols)) )\n",
    "\n",
    "df_image = np.array(df_image)"
   ]
  },
  {
   "cell_type": "code",
   "execution_count": 14,
   "metadata": {
    "collapsed": false
   },
   "outputs": [],
   "source": [
    "urban_array = db_image['urban'].fillna(0)\n",
    "urban_array = np.array(urban_array).reshape((nrows, ncols))"
   ]
  },
  {
   "cell_type": "code",
   "execution_count": 15,
   "metadata": {
    "collapsed": false
   },
   "outputs": [],
   "source": [
    "urban_data = []\n",
    "for i in range(0, nrows - obs_size, 1):\n",
    "    j = 0\n",
    "    for j in range(0, ncols - obs_size, 1):\n",
    "        urb_px = urban_array[i : i + obs_size, j : j + obs_size].sum()\n",
    "        urban_data.append(urb_px)\n",
    "        "
   ]
  },
  {
   "cell_type": "code",
   "execution_count": 16,
   "metadata": {
    "collapsed": false
   },
   "outputs": [],
   "source": [
    "urban_data = DataFrame(urban_data)"
   ]
  },
  {
   "cell_type": "markdown",
   "metadata": {},
   "source": [
    "#### After looking at the histogram, let's have four buckets. "
   ]
  },
  {
   "cell_type": "code",
   "execution_count": 36,
   "metadata": {
    "collapsed": false
   },
   "outputs": [
    {
     "data": {
      "text/plain": [
       "<matplotlib.axes._subplots.AxesSubplot at 0x11a6320d0>"
      ]
     },
     "execution_count": 36,
     "metadata": {},
     "output_type": "execute_result"
    },
    {
     "data": {
      "image/png": "[encoded data removed]",
      "text/plain": [
       "<matplotlib.figure.Figure at 0x11bee88d0>"
      ]
     },
     "metadata": {},
     "output_type": "display_data"
    }
   ],
   "source": [
    "urban_data[0].hist(bins=100)"
   ]
  },
  {
   "cell_type": "code",
   "execution_count": 17,
   "metadata": {
    "collapsed": false
   },
   "outputs": [],
   "source": [
    "sampling_rate = 0.1\n",
    "urban_rank = urban_data[0].rank(ascending=True)\n",
    "urban_data['rank'] = urban_rank\n",
    "sumrank = urban_data['rank'].sum()\n",
    "urban_data['weight'] = (urban_data['rank']**20) / sumrank\n",
    "urban_sample = urban_data[0].sample(\n",
    "    int(len(urban_data[0]) * sampling_rate), \n",
    "    weights=urban_data['weight'], replace=True)"
   ]
  },
  {
   "cell_type": "code",
   "execution_count": 18,
   "metadata": {
    "collapsed": false
   },
   "outputs": [],
   "source": [
    "urban_sample_idx = np.array(urban_sample.index.values)\n",
    "urban_sample_idx.sort()"
   ]
  },
  {
   "cell_type": "code",
   "execution_count": 19,
   "metadata": {
    "collapsed": false
   },
   "outputs": [
    {
     "data": {
      "text/plain": [
       "<matplotlib.axes._subplots.AxesSubplot at 0x11a6cd090>"
      ]
     },
     "execution_count": 19,
     "metadata": {},
     "output_type": "execute_result"
    },
    {
     "data": {
      "image/png": "[encoded data removed]",
      "text/plain": [
       "<matplotlib.figure.Figure at 0x11a6a2050>"
      ]
     },
     "metadata": {},
     "output_type": "display_data"
    }
   ],
   "source": [
    "urban_data[0][urban_sample_idx].hist()"
   ]
  },
  {
   "cell_type": "markdown",
   "metadata": {},
   "source": [
    "### Getting shape file"
   ]
  },
  {
   "cell_type": "code",
   "execution_count": 20,
   "metadata": {
    "collapsed": false
   },
   "outputs": [],
   "source": [
    "df_shape = GeoDataFrame.from_file(\n",
    "#    'county_2010_census/County_2010Census_DP1.shp')\n",
    "    'washington_block_data/tabblock2010_53_pophu.shp')\n",
    "#    'oregon_block_data/tabblock2010_41_pophu.shp')"
   ]
  },
  {
   "cell_type": "markdown",
   "metadata": {},
   "source": [
    "**AREA**"
   ]
  },
  {
   "cell_type": "code",
   "execution_count": 21,
   "metadata": {
    "collapsed": false
   },
   "outputs": [],
   "source": [
    "# It turns out the earth isn't flat\n",
    "# Getting area in square kilometers\n",
    "\n",
    "area_sq_degrees = df_shape['geometry']\n",
    "area_sq_km = []\n",
    "\n",
    "for region in area_sq_degrees:\n",
    "    geom_area = ops.transform(\n",
    "        partial(\n",
    "        pyproj.transform,\n",
    "        pyproj.Proj(init='EPSG:4326'),\n",
    "        pyproj.Proj(\n",
    "            proj='aea',\n",
    "            lat1=region.bounds[1],\n",
    "            lat2=region.bounds[3])),\n",
    "        region)\n",
    "    area = geom_area.area / 1e6 # convert to km2\n",
    "    area_sq_km.append( area )\n",
    "\n",
    "df_shape['area'] = area_sq_km"
   ]
  },
  {
   "cell_type": "code",
   "execution_count": 22,
   "metadata": {
    "collapsed": false
   },
   "outputs": [],
   "source": [
    "df_shape['density'] = df_shape['POP10'] / df_shape['area']"
   ]
  },
  {
   "cell_type": "markdown",
   "metadata": {},
   "source": [
    "### Sampling\n",
    "\n",
    "[There will be a lot of space with few people there](https://en.wikipedia.org/wiki/Oregon#Major_cities)\n",
    "\n",
    "- 4 million people live in Oregon\n",
    "- Portland is the biggest city, with 600000 people\n",
    "- Around 25% of population live in four cities\n",
    "\n",
    "Approximately 44% of cells are empty.\n",
    "\n",
    "This is resulting in a model that is confused: underpredicting areas with population, overpredicting areas with no population."
   ]
  },
  {
   "cell_type": "markdown",
   "metadata": {},
   "source": [
    "### Spatial index"
   ]
  },
  {
   "cell_type": "code",
   "execution_count": 23,
   "metadata": {
    "collapsed": false
   },
   "outputs": [],
   "source": [
    "blocks = df_shape['geometry']\n",
    "idx = index.Index()\n",
    "count = 0\n",
    "for block in blocks:\n",
    "    idx.insert(count, block.bounds)\n",
    "    count += 1\n",
    "\n",
    "# for each point\n",
    "pixels_location = db_image['location']"
   ]
  },
  {
   "cell_type": "markdown",
   "metadata": {},
   "source": [
    "### Merging \n",
    "The Satellite image information with the Census data information\n",
    "- the Satellite image is a matrix of pixels\n",
    "- each pixel has a latitute and longitude\n",
    "\n",
    "To get population density for each pixel\n",
    "- take the lat lon of the center of the pixel\n",
    "- find out which census block this lies in\n",
    "- assign the population density of the census block to the pixel\n",
    "\n",
    "Questions that need to be answered:\n",
    "    - How big is a pixel?\n",
    "        - Around half a square kilometre\n",
    "    - How big are census blocks?\n",
    "        - Around three pixels"
   ]
  },
  {
   "cell_type": "code",
   "execution_count": 24,
   "metadata": {
    "collapsed": false
   },
   "outputs": [],
   "source": [
    "pixel_information = []\n",
    "pixel_info_simple = []\n",
    "count = 0\n",
    "for pixel in pixels_location:\n",
    "    temp_polygon = None\n",
    "    temp_density = None\n",
    "    for j in idx.intersection((pixel.x, pixel.y)):\n",
    "        if pixel.within(blocks[j]):\n",
    "            temp_polygon = blocks[j]\n",
    "            temp_density = df_shape['density'][j]\n",
    "            break\n",
    "    pixel_information.append([count, temp_polygon, temp_density, pixel.x, pixel.y])\n",
    "    count += 1"
   ]
  },
  {
   "cell_type": "code",
   "execution_count": 25,
   "metadata": {
    "collapsed": true
   },
   "outputs": [],
   "source": [
    "pixel_information = GeoDataFrame(pixel_information)\n",
    "pixel_information.columns = ['count','poly', 'pop_density', \n",
    "                             'latitude', 'longitude']\n",
    "db_image['pop_density'] = pixel_information['pop_density']\n",
    "db_image['latitude'] = pixel_information['latitude']\n",
    "db_image['longitude'] = pixel_information['longitude']"
   ]
  },
  {
   "cell_type": "code",
   "execution_count": 26,
   "metadata": {
    "collapsed": false
   },
   "outputs": [
    {
     "data": {
      "text/plain": [
       "<matplotlib.axes._subplots.AxesSubplot at 0x11c22f550>"
      ]
     },
     "execution_count": 26,
     "metadata": {},
     "output_type": "execute_result"
    },
    {
     "data": {
      "image/png": "[encoded data removed]",
      "text/plain": [
       "<matplotlib.figure.Figure at 0x10caa17d0>"
      ]
     },
     "metadata": {},
     "output_type": "display_data"
    }
   ],
   "source": [
    "db_image[(db_image['urban']!=1) & (db_image['pop_density']>100)]['pop_density'].hist(bins=100)"
   ]
  },
  {
   "cell_type": "markdown",
   "metadata": {},
   "source": [
    "### Some statistics about the database - so we can stratify\n",
    "\n",
    "For reference, the [area](https://en.wikipedia.org/wiki/List_of_U.S._states_and_territories_by_area) of \n",
    "- Oregon is 255,000 km$^2$\n",
    "- Washington is 185,000 km$^2$\n",
    "\n",
    "The [population](https://en.wikipedia.org/wiki/List_of_U.S._states_and_territories_by_population) of\n",
    "- Oregon is 3.8 million\n",
    "- Washington is 6.7 million"
   ]
  },
  {
   "cell_type": "code",
   "execution_count": 27,
   "metadata": {
    "collapsed": false
   },
   "outputs": [],
   "source": [
    "state_area = df_shape['area'].sum()\n",
    "no_pixels = db_image.shape[0]\n",
    "area_per_pixel = state_area / no_pixels\n",
    "average_census_block_area = df_shape['area'].mean()"
   ]
  },
  {
   "cell_type": "code",
   "execution_count": 28,
   "metadata": {
    "collapsed": false
   },
   "outputs": [
    {
     "data": {
      "text/plain": [
       "0.57250665964111125"
      ]
     },
     "execution_count": 28,
     "metadata": {},
     "output_type": "execute_result"
    }
   ],
   "source": [
    "# Pixels are smaller than blocks on average\n",
    "area_per_pixel / average_census_block_area"
   ]
  },
  {
   "cell_type": "code",
   "execution_count": 29,
   "metadata": {
    "collapsed": false
   },
   "outputs": [],
   "source": [
    "num_urban_pixels = db_image[db_image['urban']==1].shape[0]\n",
    "num_rural_pixels = db_image[db_image['urban']!=1].shape[0]\n",
    "share_pixels_urban = num_urban_pixels / float(num_rural_pixels) \n",
    "area_urban = num_urban_pixels * area_per_pixel\n",
    "area_rural = num_rural_pixels * area_per_pixel"
   ]
  },
  {
   "cell_type": "code",
   "execution_count": 30,
   "metadata": {
    "collapsed": true
   },
   "outputs": [],
   "source": [
    "urban_density = db_image[db_image['urban']==1]['pop_density'].mean()\n",
    "rural_density = db_image[db_image['urban']!=1]['pop_density'].mean()"
   ]
  },
  {
   "cell_type": "code",
   "execution_count": 31,
   "metadata": {
    "collapsed": false
   },
   "outputs": [],
   "source": [
    "urban_pop = urban_density * area_urban\n",
    "rural_pop = rural_density * area_rural\n",
    "total_pop = urban_pop + rural_pop\n",
    "urban_pop_share = urban_pop / total_pop "
   ]
  },
  {
   "cell_type": "code",
   "execution_count": 32,
   "metadata": {
    "collapsed": false
   },
   "outputs": [
    {
     "data": {
      "text/plain": [
       "0.81177565437309784"
      ]
     },
     "execution_count": 32,
     "metadata": {},
     "output_type": "execute_result"
    }
   ],
   "source": [
    "urban_pop_share"
   ]
  },
  {
   "cell_type": "markdown",
   "metadata": {},
   "source": [
    "- take urban and rural areas\n",
    "- 80% of population live in urban areas\n",
    "- 20% of population live in rural areas\n",
    "\n",
    "+ So take 80% of sample from urban areas\n",
    "+ 20% of sample from rural areas\n",
    "\n",
    "Rather than 1% of sample from urban areas\n",
    "\n",
    "sample_id"
   ]
  },
  {
   "cell_type": "code",
   "execution_count": 33,
   "metadata": {
    "collapsed": false
   },
   "outputs": [],
   "source": [
    "# For Keras\n",
    "obs_size = 64\n",
    "nrows, ncols = ds.RasterYSize, ds.RasterXSize\n",
    "nobs = (nrows - obs_size) * (ncols - obs_size)\n",
    "\n",
    "output_data_full = []\n",
    "pop_output_data = []\n",
    "\n",
    "df_pop = db_image['pop_density']\n",
    "df_pop = df_pop.reshape((nrows, ncols))"
   ]
  },
  {
   "cell_type": "code",
   "execution_count": 34,
   "metadata": {
    "collapsed": false
   },
   "outputs": [],
   "source": [
    "df_image = []\n",
    "for i in range(len(data)):\n",
    "    df_image.append( np.array(data[i]).reshape((nrows, ncols)) )\n",
    "\n",
    "df_image = np.array(df_image)"
   ]
  },
  {
   "cell_type": "code",
   "execution_count": 35,
   "metadata": {
    "collapsed": false
   },
   "outputs": [
    {
     "data": {
      "text/plain": [
       "((7, 386, 885), 386, 885)"
      ]
     },
     "execution_count": 35,
     "metadata": {},
     "output_type": "execute_result"
    }
   ],
   "source": [
    "df_image.shape, nrows, ncols"
   ]
  },
  {
   "cell_type": "code",
   "execution_count": null,
   "metadata": {
    "collapsed": false
   },
   "outputs": [],
   "source": [
    "sample_id = urban_sample_idx\n",
    "loop_completer = [0]\n",
    "sample_id = np.append(sample_id, loop_completer)\n",
    "count = 0\n",
    "i = 0\n",
    "# adding steps for fewer pixels\n",
    "for i in range(0, nrows - obs_size, 1):\n",
    "    j = 0\n",
    "    for j in range(0, ncols - obs_size, 1):\n",
    "        if count == sample_id[0]:\n",
    "            obs_0 = df_image[0, i : i + obs_size, j : j + obs_size]\n",
    "            obs_1 = df_image[1, i : i + obs_size, j : j + obs_size]\n",
    "            obs_2 = df_image[2, i : i + obs_size, j : j + obs_size]\n",
    "            obs_3 = df_image[3, i : i + obs_size, j : j + obs_size]\n",
    "            obs_4 = df_image[4, i : i + obs_size, j : j + obs_size]\n",
    "            obs_5 = df_image[5, i : i + obs_size, j : j + obs_size]\n",
    "            obs_6 = df_image[6, i : i + obs_size, j : j + obs_size]\n",
    "            output_data_full.append([obs_0, obs_1, obs_2, obs_3, obs_4, obs_5, obs_6])\n",
    "            #\n",
    "            obs_pop = df_pop[i : i  + obs_size, j : j + obs_size]\n",
    "            pop_output_data.append(np.mean(obs_pop))\n",
    "            #\n",
    "            if sample_id[0] != sample_id[1]:\n",
    "                sample_id = np.delete(sample_id,0)\n",
    "            else:\n",
    "                count -= 1\n",
    "        j += 1\n",
    "        count += 1\n",
    "    i += 1\n"
   ]
  },
  {
   "cell_type": "code",
   "execution_count": null,
   "metadata": {
    "collapsed": false
   },
   "outputs": [],
   "source": [
    "pop_output_data = np.nan_to_num(np.array(pop_output_data))\n",
    "output_data_full = np.array(output_data_full)\n",
    "\n",
    "def shuffle_in_unison_inplace(a, b):\n",
    "    assert len(a) == len(b)\n",
    "    p = np.random.permutation(len(a))\n",
    "    return a[p], b[p]\n",
    "\n",
    "output_data_full, pop_output_data = shuffle_in_unison_inplace(output_data_full, pop_output_data)"
   ]
  },
  {
   "cell_type": "code",
   "execution_count": null,
   "metadata": {
    "collapsed": false
   },
   "outputs": [],
   "source": [
    "#testing_data = [output_data, pop_output_data]\n",
    "#output = open('dataset_' + state_name + '_sml.pkl', 'wb')\n",
    "# Pickle dictionary using protocol 0.\n",
    "#pickle.dump(testing_data, output)\n",
    "#output.close()\n",
    "\n",
    "#testing_data_full = [output_data_full, pop_output_data]ls\n",
    "#output_full = open('dataset_' + state_name + '.pkl', 'wb')\n",
    "# Pickle dictionary using protocol 0.\n",
    "#pickle.dump(testing_data_full, output_full)\n",
    "#output_full.close()"
   ]
  },
  {
   "cell_type": "markdown",
   "metadata": {
    "collapsed": true
   },
   "source": [
    "Have to shuffle data! The validation in Keras is always on the last X% of the data.\n",
    "\n",
    "This means the model's being validated on the southern most row."
   ]
  },
  {
   "cell_type": "code",
   "execution_count": null,
   "metadata": {
    "collapsed": false
   },
   "outputs": [],
   "source": [
    "# X variables\n",
    "file_size = 128\n",
    "no_files = 1 + output_data_full.shape[0] / file_size \n",
    "count = 0\n",
    "print 'Number of files', no_files\n",
    "for i in range(0, no_files):\n",
    "    temp = output_data_full[0:file_size, :, :, :]\n",
    "    output = open('keras_data/db_X_' + state_name + '_%d.pkl' % count, 'wb')\n",
    "    pickle.dump(temp, output)\n",
    "    output.close()\n",
    "    output_data_full = output_data_full[file_size:, :, :, :]\n",
    "    count += 1"
   ]
  },
  {
   "cell_type": "code",
   "execution_count": null,
   "metadata": {
    "collapsed": true
   },
   "outputs": [],
   "source": [
    "# Y variables\n",
    "file_size = 128\n",
    "count = 0\n",
    "print 'Number of files', no_files\n",
    "for i in range(0, no_files):\n",
    "    temp = pop_output_data[0:file_size, :, :, :]\n",
    "    output = open('keras_data/db_y_' + state_name + '_%d.pkl' % count, 'wb')\n",
    "    pickle.dump(temp, output)\n",
    "    output.close()\n",
    "    pop_output_data = pop_output_data[file_size:, :, :, :]\n",
    "    count += 1"
   ]
  },
  {
   "cell_type": "code",
   "execution_count": 84,
   "metadata": {
    "collapsed": true
   },
   "outputs": [],
   "source": []
  },
  {
   "cell_type": "code",
   "execution_count": null,
   "metadata": {
    "collapsed": true
   },
   "outputs": [],
   "source": []
  }
 ],
 "metadata": {
  "kernelspec": {
   "display_name": "Python 2",
   "language": "python",
   "name": "python2"
  },
  "language_info": {
   "codemirror_mode": {
    "name": "ipython",
    "version": 2
   },
   "file_extension": ".py",
   "mimetype": "text/x-python",
   "name": "python",
   "nbconvert_exporter": "python",
   "pygments_lexer": "ipython2",
   "version": "2.7.11"
  }
 },
 "nbformat": 4,
 "nbformat_minor": 0
}
